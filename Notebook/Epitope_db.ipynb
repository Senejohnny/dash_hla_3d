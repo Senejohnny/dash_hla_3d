{
 "cells": [
  {
   "cell_type": "code",
   "execution_count": 1,
   "metadata": {},
   "outputs": [],
   "source": [
    "import pandas as pd\n",
    "import numpy as np\n",
    "# !pip list"
   ]
  },
  {
   "cell_type": "code",
   "execution_count": 2,
   "metadata": {},
   "outputs": [],
   "source": [
    "def flatten2list(object) -> list:\n",
    "    \"\"\" This function flattens objects in a nested structure and return a list\"\"\"\n",
    "    gather = []\n",
    "    for item in object:\n",
    "        if isinstance(item, (list, set)):\n",
    "            gather.extend(flatten2list(item))            \n",
    "        else:\n",
    "            gather.append(item)\n",
    "    return gather\n",
    "\n",
    "def flatten2set(object) -> set:\n",
    "    \"\"\" This function flattens objects in a nested structure and return a set\"\"\"\n",
    "\n",
    "    return set(flatten2list(object))\n",
    "\n",
    "#######################################################\n",
    "# epitope class\n",
    "####################################################### \n",
    "\n",
    "class Epitope_DB:\n",
    "    \n",
    "    def __init__(self, path:str='../data/EpitopevsHLA.pickle'):\n",
    "        self.df = pd.read_pickle(path)\n",
    "        \n",
    "    def __repr__(self):\n",
    "        return f\"\"\" Epitope_DB(records={len(self.df)}, columns={self.df.columns}) \"\"\"\n",
    "    \n",
    "    def __str__(self):\n",
    "        return __repr__()\n",
    "    \n",
    "    def epitope(self, value):\n",
    "        if isinstance(value, str):\n",
    "            ind = self.df.Epitope == value \n",
    "        else: \n",
    "            ind = self.df.Epitope.apply(lambda x: x in value) \n",
    "        self.df = self.df[ind]\n",
    "        return self\n",
    "    \n",
    "    def hlavsep(self, hla_allel:str='Luminex Alleles'):\n",
    "        from collections import defaultdict\n",
    "        hlas = flatten2set(self.df[hla_allel].values)\n",
    "        hlavsep_dict = defaultdict(set)\n",
    "        for hla in hlas:\n",
    "            ind = self.df[hla_allel].apply(lambda x: hla in x)\n",
    "            epitopes = flatten2set(self.df[ind]['Epitope'].values)\n",
    "            hlavsep_dict[hla].update(epitopes)\n",
    "        self.hlavsep = hlavsep_dict\n",
    "        return self.hlavsep\n",
    "    \n",
    "    def ellipro(self, value):\n",
    "        if isinstance(value, str):\n",
    "            ind = self.df.Epitope == value \n",
    "        else: \n",
    "            ind = self.df['ElliPro Score'].apply(lambda x: x in value) \n",
    "        self.df = self.df[ind]\n",
    "        return self\n"
   ]
  },
  {
   "cell_type": "code",
   "execution_count": 3,
   "metadata": {},
   "outputs": [],
   "source": [
    "epitope = Epitope_DB()\n",
    "\n",
    "# len(flatten2set(ep_db.df['All Alleles'].values))\n",
    "# hlavsep_dict = ep_db.hlavsep()"
   ]
  },
  {
   "cell_type": "code",
   "execution_count": 4,
   "metadata": {},
   "outputs": [],
   "source": [
    "# pd.DataFrame.from_dict(hlavsep_dict)"
   ]
  },
  {
   "cell_type": "code",
   "execution_count": 5,
   "metadata": {},
   "outputs": [],
   "source": [
    "epitopes = epitope.df\n",
    "# epitopes['isotype'] = 'unknown'\n",
    "# epitopes[epitopes.mAb == 'Yes'][25:35]"
   ]
  },
  {
   "cell_type": "code",
   "execution_count": 48,
   "metadata": {},
   "outputs": [],
   "source": [
    "# Class I\n",
    "epitopes.loc[epitopes.Epitope == '41T', 'isotype'] = 'IgG'\n",
    "epitopes.loc[epitopes.Epitope == '45KE', 'isotype'] = 'IgG'\n",
    "epitopes.loc[epitopes.Epitope == '62GE', 'isotype'] = 'IgG' + 'IgM'\n",
    "epitopes.loc[epitopes.Epitope == '62GRN', 'isotype'] = 'IgM'\n",
    "epitopes.loc[epitopes.Epitope == '62LQ', 'isotype'] = 'IgG'\n",
    "epitopes.loc[epitopes.Epitope == '62QE', 'isotype'] = 'IgM'\n",
    "epitopes.loc[epitopes.Epitope == '65GK', 'isotype'] = 'IgG'\n",
    "epitopes.loc[epitopes.Epitope == '65QIA', 'isotype'] = 'IgG'\n",
    "epitopes.loc[epitopes.Epitope == '65QKR', 'mAb'] = 'Yes'\n",
    "epitopes.loc[epitopes.Epitope == '65QKR', 'isotype'] = 'IgM'\n",
    "epitopes.loc[epitopes.Epitope == '65RNA', 'mAb'] = 'Yes'\n",
    "epitopes.loc[epitopes.Epitope == '65RNA', 'isotype'] = 'IgG'\n",
    "epitopes.loc[epitopes.Epitope == '71TTS', 'isotype'] = 'IgG'\n",
    "epitopes.loc[epitopes.Epitope == '80I', 'isotype'] = 'IgG'\n",
    "epitopes.loc[epitopes.Epitope == '80N', 'isotype'] = 'IgM' + 'IgG'\n",
    "epitopes.loc[epitopes.Epitope == '82LR', 'isotype'] = 'IgG'\n",
    "epitopes.loc[epitopes.Epitope == '82LR', 'isotype'] = 'IgG'\n",
    "epitopes.loc[epitopes.Epitope == '107W', 'mAb'] = 'Yes'\n",
    "epitopes.loc[epitopes.Epitope == '107W', 'isotype'] = 'IgM'\n",
    "# epitopes.loc[epitopes.Epitope == '143S', 'mAb'] = 'Yes'\n",
    "# epitopes.loc[epitopes.Epitope == '143S', 'isotype'] = 'IgM'\n",
    "epitopes.loc[epitopes.Epitope == '144KR', 'isotype'] = 'IgG' + 'IgM'\n",
    "epitopes.loc[epitopes.Epitope == '144QL', 'isotype'] = 'IgM'\n",
    "epitopes.loc[epitopes.Epitope == '144TKH', 'isotype'] = 'IgG' + 'IgM'\n",
    "epitopes.loc[epitopes.Epitope == '145KHA', 'isotype'] = 'unknown'\n",
    "epitopes.loc[epitopes.Epitope == '151AHA', 'isotype'] = 'IgM'\n",
    "epitopes.loc[epitopes.Epitope == '152W', 'mAb'] = 'unknown'\n",
    "epitopes.loc[epitopes.Epitope == '158T', 'isotype'] = 'IgM'\n",
    "epitopes.loc[epitopes.Epitope == '161D', 'isotype'] = 'IgM'\n",
    "epitopes.loc[epitopes.Epitope == '163LW', 'isotype'] = 'IgM'\n",
    "epitopes.loc[epitopes.Epitope == '163RG', 'isotype'] = 'IgG'\n",
    "epitopes.loc[epitopes.Epitope == '163RW', 'isotype'] = 'IgM'\n",
    "epitopes.loc[epitopes.Epitope == '163EW', 'isotype'] = 'IgG'\n",
    "epitopes.loc[epitopes.Epitope == '166DG', 'mAb'] = 'unknown'\n",
    "epitopes.loc[epitopes.Epitope == '219W', 'isotype'] = 'IgM'\n"
   ]
  },
  {
   "cell_type": "code",
   "execution_count": 49,
   "metadata": {},
   "outputs": [],
   "source": [
    "# Class II human\n",
    "epitopes.loc[epitopes.Epitope == '16Y', 'isotype'] = 'IgM'\n",
    "epitopes.loc[epitopes.Epitope == '37YV[DR]', 'isotype'] = 'unknown'\n",
    "epitopes.loc[epitopes.Epitope == '48Q', 'isotype'] = 'unknown'\n",
    "epitopes.loc[epitopes.Epitope == '51R', 'mAb'] = 'unknown'\n",
    "epitopes.loc[epitopes.Epitope == '57DE', 'isotype'] = 'IgG'\n",
    "epitopes.loc[epitopes.Epitope == '57S', 'isotype'] = 'IgM'\n",
    "epitopes.loc[epitopes.Epitope == '74R', 'isotype'] = 'IgM'\n",
    "epitopes.loc[epitopes.Epitope == '96HK', 'isotype'] = 'IgG'\n",
    "epitopes.loc[epitopes.Epitope == '98Q', 'isotype'] = 'unknown'\n",
    "\n"
   ]
  },
  {
   "cell_type": "code",
   "execution_count": 60,
   "metadata": {},
   "outputs": [],
   "source": [
    "# ind = epitopes['isotype'].apply(lambda x: 'IgM' in x)\n",
    "# epitopes[ind]\n",
    "epitopes.to_pickle('../data/EpitopevsHLA.pickle')"
   ]
  },
  {
   "cell_type": "code",
   "execution_count": 64,
   "metadata": {},
   "outputs": [],
   "source": [
    "# epitopes[epitopes.mAb == 'Yes'].shape"
   ]
  },
  {
   "cell_type": "code",
   "execution_count": 65,
   "metadata": {},
   "outputs": [
    {
     "data": {
      "text/plain": [
       "Index(['Epitope', 'ElliPro Score', 'PolymorphicResidues', 'AntibodyReactivity',\n",
       "       'Luminex Alleles', 'All Alleles', 'distance [A]', 'mean_distance [A]',\n",
       "       'std_distance [A]', 'mAb', 'Location', 'isotype'],\n",
       "      dtype='object')"
      ]
     },
     "execution_count": 65,
     "metadata": {},
     "output_type": "execute_result"
    }
   ],
   "source": [
    "epitopes.columns"
   ]
  },
  {
   "cell_type": "code",
   "execution_count": 45,
   "metadata": {},
   "outputs": [
    {
     "data": {
      "text/html": [
       "<div>\n",
       "<style scoped>\n",
       "    .dataframe tbody tr th:only-of-type {\n",
       "        vertical-align: middle;\n",
       "    }\n",
       "\n",
       "    .dataframe tbody tr th {\n",
       "        vertical-align: top;\n",
       "    }\n",
       "\n",
       "    .dataframe thead th {\n",
       "        text-align: right;\n",
       "    }\n",
       "</style>\n",
       "<table border=\"1\" class=\"dataframe\">\n",
       "  <thead>\n",
       "    <tr style=\"text-align: right;\">\n",
       "      <th></th>\n",
       "      <th>Epitope</th>\n",
       "      <th>ElliPro Score</th>\n",
       "      <th>PolymorphicResidues</th>\n",
       "      <th>AntibodyReactivity</th>\n",
       "      <th>Luminex Alleles</th>\n",
       "      <th>All Alleles</th>\n",
       "      <th>distance [A]</th>\n",
       "      <th>mean_distance [A]</th>\n",
       "      <th>std_distance [A]</th>\n",
       "      <th>mAb</th>\n",
       "      <th>Location</th>\n",
       "      <th>isotype</th>\n",
       "    </tr>\n",
       "  </thead>\n",
       "  <tbody>\n",
       "    <tr>\n",
       "      <th>34</th>\n",
       "      <td>62LQ</td>\n",
       "      <td>Intermediate</td>\n",
       "      <td>[(62, L), (63, Q)]</td>\n",
       "      <td>Yes</td>\n",
       "      <td>{A*29:01, A*43:01, A*29:02}</td>\n",
       "      <td>{A*11:11, A*29:17, A*29:13, A*29:16, A*29:09, ...</td>\n",
       "      <td>{'A*29:02': 63.992, 'A*29:01': 63.957, 'A*43:0...</td>\n",
       "      <td>64.005333</td>\n",
       "      <td>0.045886</td>\n",
       "      <td>Yes</td>\n",
       "      <td>{'A*29:02': [8.63, 4.84, 39.21], 'A*29:01': [8...</td>\n",
       "      <td>IgG</td>\n",
       "    </tr>\n",
       "  </tbody>\n",
       "</table>\n",
       "</div>"
      ],
      "text/plain": [
       "   Epitope ElliPro Score PolymorphicResidues AntibodyReactivity  \\\n",
       "34    62LQ  Intermediate  [(62, L), (63, Q)]                Yes   \n",
       "\n",
       "                Luminex Alleles  \\\n",
       "34  {A*29:01, A*43:01, A*29:02}   \n",
       "\n",
       "                                          All Alleles  \\\n",
       "34  {A*11:11, A*29:17, A*29:13, A*29:16, A*29:09, ...   \n",
       "\n",
       "                                         distance [A]  mean_distance [A]  \\\n",
       "34  {'A*29:02': 63.992, 'A*29:01': 63.957, 'A*43:0...          64.005333   \n",
       "\n",
       "    std_distance [A]  mAb                                           Location  \\\n",
       "34          0.045886  Yes  {'A*29:02': [8.63, 4.84, 39.21], 'A*29:01': [8...   \n",
       "\n",
       "   isotype  \n",
       "34     IgG  "
      ]
     },
     "execution_count": 45,
     "metadata": {},
     "output_type": "execute_result"
    }
   ],
   "source": [
    "epitopes[epitopes.Epitope == '37YV[DR]']\n",
    "epitopes[epitopes.Epitope == '62LQ']"
   ]
  },
  {
   "cell_type": "code",
   "execution_count": null,
   "metadata": {},
   "outputs": [],
   "source": []
  }
 ],
 "metadata": {
  "kernelspec": {
   "display_name": "Python 3",
   "language": "python",
   "name": "python3"
  },
  "language_info": {
   "codemirror_mode": {
    "name": "ipython",
    "version": 3
   },
   "file_extension": ".py",
   "mimetype": "text/x-python",
   "name": "python",
   "nbconvert_exporter": "python",
   "pygments_lexer": "ipython3",
   "version": "3.9.1"
  }
 },
 "nbformat": 4,
 "nbformat_minor": 4
}
