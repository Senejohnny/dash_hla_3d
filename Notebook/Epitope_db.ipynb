{
 "cells": [
  {
   "cell_type": "code",
   "execution_count": 13,
   "metadata": {},
   "outputs": [
    {
     "output_type": "error",
     "ename": "ModuleNotFoundError",
     "evalue": "No module named 'hla3d'",
     "traceback": [
      "\u001b[0;31m---------------------------------------------------------------------------\u001b[0m",
      "\u001b[0;31mModuleNotFoundError\u001b[0m                       Traceback (most recent call last)",
      "\u001b[0;32m<ipython-input-13-4561dc76d643>\u001b[0m in \u001b[0;36m<module>\u001b[0;34m\u001b[0m\n\u001b[1;32m      1\u001b[0m \u001b[0;32mimport\u001b[0m \u001b[0mpandas\u001b[0m \u001b[0;32mas\u001b[0m \u001b[0mpd\u001b[0m\u001b[0;34m\u001b[0m\u001b[0;34m\u001b[0m\u001b[0m\n\u001b[1;32m      2\u001b[0m \u001b[0;32mimport\u001b[0m \u001b[0mnumpy\u001b[0m \u001b[0;32mas\u001b[0m \u001b[0mnp\u001b[0m\u001b[0;34m\u001b[0m\u001b[0;34m\u001b[0m\u001b[0m\n\u001b[0;32m----> 3\u001b[0;31m \u001b[0;32mimport\u001b[0m \u001b[0mhla3d\u001b[0m\u001b[0;34m\u001b[0m\u001b[0;34m\u001b[0m\u001b[0m\n\u001b[0m",
      "\u001b[0;31mModuleNotFoundError\u001b[0m: No module named 'hla3d'"
     ]
    }
   ],
   "source": [
    "import pandas as pd\n",
    "import numpy as np\n"
   ]
  },
  {
   "cell_type": "code",
   "execution_count": 8,
   "metadata": {},
   "outputs": [],
   "source": [
    "def flatten2list(object) -> list:\n",
    "    \"\"\" This function flattens objects in a nested structure and return a list\"\"\"\n",
    "    gather = []\n",
    "    for item in object:\n",
    "        if isinstance(item, (list, set)):\n",
    "            gather.extend(flatten2list(item))            \n",
    "        else:\n",
    "            gather.append(item)\n",
    "    return gather\n",
    "\n",
    "def flatten2set(object) -> set:\n",
    "    \"\"\" This function flattens objects in a nested structure and return a set\"\"\"\n",
    "\n",
    "    return set(flatten2list(object))\n",
    "\n",
    "#######################################################\n",
    "# epitope class\n",
    "####################################################### \n",
    "\n",
    "class Epitope_DB:\n",
    "    \n",
    "    def __init__(self, path:str='../data/20201123_EpitopevsHLA.pickle'):\n",
    "        self.df = pd.read_pickle(path)\n",
    "        \n",
    "    def __repr__(self):\n",
    "        return f\"\"\" Epitope_DB(records={len(self.df)}, columns={self.df.columns}) \"\"\"\n",
    "    \n",
    "    def __str__(self):\n",
    "        return __repr__()\n",
    "    \n",
    "    def epitope(self, value):\n",
    "        if isinstance(value, str):\n",
    "            ind = self.df.Epitope == value \n",
    "        else: \n",
    "            ind = self.df.Epitope.apply(lambda x: x in value) \n",
    "        self.df = self.df[ind]\n",
    "        return self\n",
    "    \n",
    "    def hlavsep(self, hla_allel:str='Luminex Alleles'):\n",
    "        from collections import defaultdict\n",
    "        hlas = flatten2set(self.df[hla_allel].values)\n",
    "        hlavsep_dict = defaultdict(set)\n",
    "        for hla in hlas:\n",
    "            ind = self.df[hla_allel].apply(lambda x: hla in x)\n",
    "            epitopes = flatten2set(self.df[ind]['Epitope'].values)\n",
    "            hlavsep_dict[hla].update(epitopes)\n",
    "        self.hlavsep = hlavsep_dict\n",
    "        return self.hlavsep\n",
    "    \n",
    "    def ellipro(self, value):\n",
    "        if isinstance(value, str):\n",
    "            ind = self.df.Epitope == value \n",
    "        else: \n",
    "            ind = self.df['ElliPro Score'].apply(lambda x: x in value) \n",
    "        self.df = self.df[ind]\n",
    "        return self\n"
   ]
  },
  {
   "cell_type": "code",
   "execution_count": 9,
   "metadata": {},
   "outputs": [],
   "source": [
    "epitope = Epitope_DB()\n",
    "\n",
    "# len(flatten2set(ep_db.df['All Alleles'].values))\n",
    "# hlavsep_dict = ep_db.hlavsep()"
   ]
  },
  {
   "cell_type": "code",
   "execution_count": 10,
   "metadata": {},
   "outputs": [],
   "source": [
    "# pd.DataFrame.from_dict(hlavsep_dict)"
   ]
  },
  {
   "cell_type": "code",
   "execution_count": 11,
   "metadata": {},
   "outputs": [
    {
     "output_type": "execute_result",
     "data": {
      "text/plain": [
       "    Epitope ElliPro Score   PolymorphicResidues AntibodyReactivity  \\\n",
       "0        1C          High              [(1, C)]            unknown   \n",
       "1        9D      Very Low              [(9, D)]            unknown   \n",
       "2     9F[A]      Very Low              [(9, F)]            unknown   \n",
       "3        9H      Very Low              [(9, H)]            unknown   \n",
       "4        9S      Very Low              [(9, S)]            unknown   \n",
       "..      ...           ...                   ...                ...   \n",
       "419    160A          High            [(160, A)]            unknown   \n",
       "420   160AD          High  [(160, A), (161, D)]            unknown   \n",
       "421    160D          High            [(160, D)]            unknown   \n",
       "422    160S          High            [(160, S)]            unknown   \n",
       "423    175E          High            [(175, E)]            unknown   \n",
       "\n",
       "                                       Luminex Alleles  \\\n",
       "0    {C*18:01, C*07:01, C*08:01, C*08:02, C*12:03, ...   \n",
       "1    {C*06:02, C*07:01, C*07:02, C*07:04, B*08:01, ...   \n",
       "2    {A*03:01, A*02:01, A*36:01, A*74:01, A*02:02, ...   \n",
       "3    {B*27:05, B*40:05, B*41:02, B*40:01, B*50:01, ...   \n",
       "4    {C*04:01, A*23:01, A*30:02, A*23:02, A*24:02, ...   \n",
       "..                                                 ...   \n",
       "419  {DQA1*05:01, DQA1*02:01, DQA1*01:04, DQA1*06:0...   \n",
       "420  {DQA1*02:01, DQA1*01:04, DQA1*06:01, DQA1*04:0...   \n",
       "421                           {DQA1*03:03, DQA1*03:02}   \n",
       "422                                       {DQA1*05:03}   \n",
       "423  {DQA1*03:03, DQA1*02:01, DQA1*04:01, DQA1*06:0...   \n",
       "\n",
       "                                           All Alleles  \\\n",
       "0    {C*06:12, C*05:15, C*02:05, C*12:19, C*07:14, ...   \n",
       "1    {C*06:12, C*07:14, B*08:40, B*08:21, C*07:36, ...   \n",
       "2    {A*32:17, A*02:31, A*01:30, A*02:03, A*02:58, ...   \n",
       "3    {B*49:02, B*40:72, B*41:04, B*27:19, B*40:81, ...   \n",
       "4    {A*23:01, A*24:76, C*04:14, A*24:37, C*04:10, ...   \n",
       "..                                                 ...   \n",
       "419  {DQA1*01:07, DQA1*06:01, DQA1*01:01, DQA1*01:0...   \n",
       "420  {DQA1*01:07, DQA1*04:04, DQA1*01:05, DQA1*02:0...   \n",
       "421                           {DQA1*03:03, DQA1*03:02}   \n",
       "422               {DQA1*05:06, DQA1*05:07, DQA1*05:03}   \n",
       "423  {DQA1*03:03, DQA1*04:04, DQA1*02:01, DQA1*04:0...   \n",
       "\n",
       "                                          distance [A]  mean_distance [A]  \\\n",
       "0    {'C*06:02': 48.755, 'C*15:02': 48.759, 'C*05:0...          48.545385   \n",
       "1    {'B*08:01': 52.644, 'C*06:02': 52.18, 'C*07:02...          52.669500   \n",
       "2    {'A*02:03': 53.409, 'A*32:01': 52.566, 'A*80:0...          53.752900   \n",
       "3    {'B*40:01': 54.35, 'B*50:01': 54.077, 'B*27:05...          53.781462   \n",
       "4    {'A*30:02': 53.668, 'A*24:03': 51.839, 'A*24:0...          51.999286   \n",
       "..                                                 ...                ...   \n",
       "419  {'DQA1*03:01': 29.99, 'DQA1*04:01': 33.55, 'DQ...          30.801500   \n",
       "420  {'DQA1*03:01': 31.735, 'DQA1*04:01': 35.48, 'D...          31.908000   \n",
       "421       {'DQA1*03:02': 31.978, 'DQA1*03:03': 34.829}          33.403500   \n",
       "422                             {'DQA1*05:03': 33.099}          33.099000   \n",
       "423  {'DQA1*03:01': 50.316, 'DQA1*04:01': 53.628, '...          52.355333   \n",
       "\n",
       "     std_distance [A]      mAb  \\\n",
       "0            0.312178  unknown   \n",
       "1            0.389487  unknown   \n",
       "2            0.530792  unknown   \n",
       "3            0.471508  unknown   \n",
       "4            1.152629  unknown   \n",
       "..                ...      ...   \n",
       "419          1.755056  unknown   \n",
       "420          2.145945  unknown   \n",
       "421          1.425500  unknown   \n",
       "422          0.000000  unknown   \n",
       "423          1.278737  unknown   \n",
       "\n",
       "                                              Location  \n",
       "0    {'C*08:02': [17.51, 19.17, 13.44], 'C*12:02': ...  \n",
       "1    {'C*07:02': [16.85, -7.29, 12.52], 'B*08:01': ...  \n",
       "2    {'A*32:01': [2.45, 4.33, 6.64], 'A*02:01': [20...  \n",
       "3    {'B*40:01': [-3.53, 9.98, -29.58], 'B*37:01': ...  \n",
       "4    {'A*23:01': [-24.06, 8.52, -14.82], 'C*04:01':...  \n",
       "..                                                 ...  \n",
       "419  {'DQA1*03:01': [73.51, 67.51, 103.62], 'DQA1*0...  \n",
       "420  {'DQA1*03:01': [74.45, 66.88, 102.11], 'DQA1*0...  \n",
       "421  {'DQA1*03:02': [72.38, 67.98, 103.95], 'DQA1*0...  \n",
       "422            {'DQA1*05:03': [25.66, -20.38, -26.74]}  \n",
       "423  {'DQA1*02:01': [69.9, 10.78, 5.49], 'DQA1*03:0...  \n",
       "\n",
       "[424 rows x 11 columns]"
      ],
      "text/html": "<div>\n<style scoped>\n    .dataframe tbody tr th:only-of-type {\n        vertical-align: middle;\n    }\n\n    .dataframe tbody tr th {\n        vertical-align: top;\n    }\n\n    .dataframe thead th {\n        text-align: right;\n    }\n</style>\n<table border=\"1\" class=\"dataframe\">\n  <thead>\n    <tr style=\"text-align: right;\">\n      <th></th>\n      <th>Epitope</th>\n      <th>ElliPro Score</th>\n      <th>PolymorphicResidues</th>\n      <th>AntibodyReactivity</th>\n      <th>Luminex Alleles</th>\n      <th>All Alleles</th>\n      <th>distance [A]</th>\n      <th>mean_distance [A]</th>\n      <th>std_distance [A]</th>\n      <th>mAb</th>\n      <th>Location</th>\n    </tr>\n  </thead>\n  <tbody>\n    <tr>\n      <th>0</th>\n      <td>1C</td>\n      <td>High</td>\n      <td>[(1, C)]</td>\n      <td>unknown</td>\n      <td>{C*18:01, C*07:01, C*08:01, C*08:02, C*12:03, ...</td>\n      <td>{C*06:12, C*05:15, C*02:05, C*12:19, C*07:14, ...</td>\n      <td>{'C*06:02': 48.755, 'C*15:02': 48.759, 'C*05:0...</td>\n      <td>48.545385</td>\n      <td>0.312178</td>\n      <td>unknown</td>\n      <td>{'C*08:02': [17.51, 19.17, 13.44], 'C*12:02': ...</td>\n    </tr>\n    <tr>\n      <th>1</th>\n      <td>9D</td>\n      <td>Very Low</td>\n      <td>[(9, D)]</td>\n      <td>unknown</td>\n      <td>{C*06:02, C*07:01, C*07:02, C*07:04, B*08:01, ...</td>\n      <td>{C*06:12, C*07:14, B*08:40, B*08:21, C*07:36, ...</td>\n      <td>{'B*08:01': 52.644, 'C*06:02': 52.18, 'C*07:02...</td>\n      <td>52.669500</td>\n      <td>0.389487</td>\n      <td>unknown</td>\n      <td>{'C*07:02': [16.85, -7.29, 12.52], 'B*08:01': ...</td>\n    </tr>\n    <tr>\n      <th>2</th>\n      <td>9F[A]</td>\n      <td>Very Low</td>\n      <td>[(9, F)]</td>\n      <td>unknown</td>\n      <td>{A*03:01, A*02:01, A*36:01, A*74:01, A*02:02, ...</td>\n      <td>{A*32:17, A*02:31, A*01:30, A*02:03, A*02:58, ...</td>\n      <td>{'A*02:03': 53.409, 'A*32:01': 52.566, 'A*80:0...</td>\n      <td>53.752900</td>\n      <td>0.530792</td>\n      <td>unknown</td>\n      <td>{'A*32:01': [2.45, 4.33, 6.64], 'A*02:01': [20...</td>\n    </tr>\n    <tr>\n      <th>3</th>\n      <td>9H</td>\n      <td>Very Low</td>\n      <td>[(9, H)]</td>\n      <td>unknown</td>\n      <td>{B*27:05, B*40:05, B*41:02, B*40:01, B*50:01, ...</td>\n      <td>{B*49:02, B*40:72, B*41:04, B*27:19, B*40:81, ...</td>\n      <td>{'B*40:01': 54.35, 'B*50:01': 54.077, 'B*27:05...</td>\n      <td>53.781462</td>\n      <td>0.471508</td>\n      <td>unknown</td>\n      <td>{'B*40:01': [-3.53, 9.98, -29.58], 'B*37:01': ...</td>\n    </tr>\n    <tr>\n      <th>4</th>\n      <td>9S</td>\n      <td>Very Low</td>\n      <td>[(9, S)]</td>\n      <td>unknown</td>\n      <td>{C*04:01, A*23:01, A*30:02, A*23:02, A*24:02, ...</td>\n      <td>{A*23:01, A*24:76, C*04:14, A*24:37, C*04:10, ...</td>\n      <td>{'A*30:02': 53.668, 'A*24:03': 51.839, 'A*24:0...</td>\n      <td>51.999286</td>\n      <td>1.152629</td>\n      <td>unknown</td>\n      <td>{'A*23:01': [-24.06, 8.52, -14.82], 'C*04:01':...</td>\n    </tr>\n    <tr>\n      <th>...</th>\n      <td>...</td>\n      <td>...</td>\n      <td>...</td>\n      <td>...</td>\n      <td>...</td>\n      <td>...</td>\n      <td>...</td>\n      <td>...</td>\n      <td>...</td>\n      <td>...</td>\n      <td>...</td>\n    </tr>\n    <tr>\n      <th>419</th>\n      <td>160A</td>\n      <td>High</td>\n      <td>[(160, A)]</td>\n      <td>unknown</td>\n      <td>{DQA1*05:01, DQA1*02:01, DQA1*01:04, DQA1*06:0...</td>\n      <td>{DQA1*01:07, DQA1*06:01, DQA1*01:01, DQA1*01:0...</td>\n      <td>{'DQA1*03:01': 29.99, 'DQA1*04:01': 33.55, 'DQ...</td>\n      <td>30.801500</td>\n      <td>1.755056</td>\n      <td>unknown</td>\n      <td>{'DQA1*03:01': [73.51, 67.51, 103.62], 'DQA1*0...</td>\n    </tr>\n    <tr>\n      <th>420</th>\n      <td>160AD</td>\n      <td>High</td>\n      <td>[(160, A), (161, D)]</td>\n      <td>unknown</td>\n      <td>{DQA1*02:01, DQA1*01:04, DQA1*06:01, DQA1*04:0...</td>\n      <td>{DQA1*01:07, DQA1*04:04, DQA1*01:05, DQA1*02:0...</td>\n      <td>{'DQA1*03:01': 31.735, 'DQA1*04:01': 35.48, 'D...</td>\n      <td>31.908000</td>\n      <td>2.145945</td>\n      <td>unknown</td>\n      <td>{'DQA1*03:01': [74.45, 66.88, 102.11], 'DQA1*0...</td>\n    </tr>\n    <tr>\n      <th>421</th>\n      <td>160D</td>\n      <td>High</td>\n      <td>[(160, D)]</td>\n      <td>unknown</td>\n      <td>{DQA1*03:03, DQA1*03:02}</td>\n      <td>{DQA1*03:03, DQA1*03:02}</td>\n      <td>{'DQA1*03:02': 31.978, 'DQA1*03:03': 34.829}</td>\n      <td>33.403500</td>\n      <td>1.425500</td>\n      <td>unknown</td>\n      <td>{'DQA1*03:02': [72.38, 67.98, 103.95], 'DQA1*0...</td>\n    </tr>\n    <tr>\n      <th>422</th>\n      <td>160S</td>\n      <td>High</td>\n      <td>[(160, S)]</td>\n      <td>unknown</td>\n      <td>{DQA1*05:03}</td>\n      <td>{DQA1*05:06, DQA1*05:07, DQA1*05:03}</td>\n      <td>{'DQA1*05:03': 33.099}</td>\n      <td>33.099000</td>\n      <td>0.000000</td>\n      <td>unknown</td>\n      <td>{'DQA1*05:03': [25.66, -20.38, -26.74]}</td>\n    </tr>\n    <tr>\n      <th>423</th>\n      <td>175E</td>\n      <td>High</td>\n      <td>[(175, E)]</td>\n      <td>unknown</td>\n      <td>{DQA1*03:03, DQA1*02:01, DQA1*04:01, DQA1*06:0...</td>\n      <td>{DQA1*03:03, DQA1*04:04, DQA1*02:01, DQA1*04:0...</td>\n      <td>{'DQA1*03:01': 50.316, 'DQA1*04:01': 53.628, '...</td>\n      <td>52.355333</td>\n      <td>1.278737</td>\n      <td>unknown</td>\n      <td>{'DQA1*02:01': [69.9, 10.78, 5.49], 'DQA1*03:0...</td>\n    </tr>\n  </tbody>\n</table>\n<p>424 rows × 11 columns</p>\n</div>"
     },
     "metadata": {},
     "execution_count": 11
    }
   ],
   "source": [
    "epitope.df"
   ]
  },
  {
   "cell_type": "code",
   "execution_count": null,
   "metadata": {},
   "outputs": [],
   "source": []
  }
 ],
 "metadata": {
  "kernelspec": {
   "name": "python3",
   "display_name": "Python 3.8.6 64-bit ('dash_hla_3d': pipenv)",
   "metadata": {
    "interpreter": {
     "hash": "d197a8c75b4aa4dd3c03313fea11fb53931bb6b130515c653ce0480195670901"
    }
   }
  },
  "language_info": {
   "codemirror_mode": {
    "name": "ipython",
    "version": 3
   },
   "file_extension": ".py",
   "mimetype": "text/x-python",
   "name": "python",
   "nbconvert_exporter": "python",
   "pygments_lexer": "ipython3",
   "version": "3.8.6-final"
  }
 },
 "nbformat": 4,
 "nbformat_minor": 4
}