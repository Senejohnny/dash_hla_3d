{
 "cells": [
  {
   "cell_type": "code",
   "execution_count": 37,
   "metadata": {},
   "outputs": [],
   "source": [
    "import os\n",
    "import json   "
   ]
  },
  {
   "cell_type": "code",
   "execution_count": 38,
   "metadata": {},
   "outputs": [],
   "source": [
    "def get_hla_from_filename(filename):\n",
    "    splits = filename.split('-')\n",
    "    hlas = set()\n",
    "    for split in splits:\n",
    "        split = split.split('_')\n",
    "        hlas.add(split[0] + '*' + ':'.join(split[1:3]))\n",
    "    return hlas"
   ]
  },
  {
   "cell_type": "code",
   "execution_count": 39,
   "metadata": {},
   "outputs": [],
   "source": [
    "def test_get_hla_from_filename():\n",
    "    test_data = ['DQA1_01_03-DQB1_06_01_V1.pdb', 'DRB1_01_03_V1.pdb']\n",
    "    for data in test_data:    \n",
    "        assert get_hla_from_filename('DRB1_01_03_V1.pdb') == set(['DRB1*01:03'])\n",
    "test_get_hla_from_filename()"
   ]
  },
  {
   "cell_type": "code",
   "execution_count": 40,
   "metadata": {},
   "outputs": [],
   "source": [
    "def get_inventory_hlas(base_dir):\n",
    "    \"\"\" This function returns all the hla & locus \n",
    "        available in the hla inventory \"\"\"\n",
    "    from collections import defaultdict\n",
    "    hlas = defaultdict(set)\n",
    "    with os.scandir(base_dir) as entries:\n",
    "        for entry in entries:\n",
    "            if entry.is_dir():\n",
    "                for file in os.scandir(entry.path):\n",
    "#                     print(file.name, get_hla_from_filename(file.name))\n",
    "                    hlas[entry.name].update(get_hla_from_filename(file.name))\n",
    "    return hlas"
   ]
  },
  {
   "cell_type": "code",
   "execution_count": 85,
   "metadata": {},
   "outputs": [],
   "source": [
    "\n",
    "base_dir = '/Users/Danial/Repos/STRIDE/dash_hla_3d/data/HLAMolecule'\n",
    "hlas = get_inventory_hlas(base_dir)\n",
    "for hla in list(hlas):\n",
    "    hlas[hla] = list(hlas[hla])\n",
    "hla_pdb = json.dumps(hlas, indent=4)\n",
    "with open('hla_pdb_files.json', 'w') as fp:\n",
    "    fp.write(hla_pdb)"
   ]
  },
  {
   "cell_type": "code",
   "execution_count": 49,
   "metadata": {},
   "outputs": [],
   "source": []
  },
  {
   "cell_type": "code",
   "execution_count": 86,
   "metadata": {},
   "outputs": [],
   "source": [
    "with open('hla_pdb_files.json') as fp:\n",
    "    data = fp.read()"
   ]
  },
  {
   "cell_type": "code",
   "execution_count": 87,
   "metadata": {},
   "outputs": [],
   "source": [
    "data_new = json.loads(data)"
   ]
  },
  {
   "cell_type": "code",
   "execution_count": 88,
   "metadata": {},
   "outputs": [
    {
     "data": {
      "text/plain": [
       "['DRB1*15:01',\n",
       " 'DRB1*03:02',\n",
       " 'DRB1*13:03',\n",
       " 'DRB3*02:02',\n",
       " 'DRB1*03:01',\n",
       " 'DRB1*14:03',\n",
       " 'DRB1*04:02',\n",
       " 'DRB1*11:01',\n",
       " 'DRB3*01:01',\n",
       " 'DRB1*16:01',\n",
       " 'DRB1*04:05',\n",
       " 'DRB1*12:02',\n",
       " 'DRB1*14:04',\n",
       " 'DRB1*01:01',\n",
       " 'DRB1*01:02',\n",
       " 'DRB1*14:02',\n",
       " 'DRB4*01:01',\n",
       " 'DRB1*04:01',\n",
       " 'DRB1*08:02',\n",
       " 'DRB1*01:03',\n",
       " 'DRB1*04:03',\n",
       " 'DRB1*10:01',\n",
       " 'DRB1*11:04',\n",
       " 'DRB1*13:05',\n",
       " 'DRB5*02:02',\n",
       " 'DRB1*03:03',\n",
       " 'DRB1*11:03',\n",
       " 'DRB5*01:01',\n",
       " 'DRB1*16:02',\n",
       " 'DRB1*12:01',\n",
       " 'DRB1*13:01',\n",
       " 'DRB3*03:01',\n",
       " 'DRB4*01:03',\n",
       " 'DRB1*09:02',\n",
       " 'DRB1*09:01',\n",
       " 'DRB1*07:01',\n",
       " 'DRB1*14:54',\n",
       " 'DRB1*15:02',\n",
       " 'DRB1*14:01',\n",
       " 'DRB1*04:04',\n",
       " 'DRB1*08:01']"
      ]
     },
     "execution_count": 88,
     "metadata": {},
     "output_type": "execute_result"
    }
   ],
   "source": [
    "data_new['DR']"
   ]
  },
  {
   "cell_type": "code",
   "execution_count": null,
   "metadata": {},
   "outputs": [],
   "source": []
  }
 ],
 "metadata": {
  "kernelspec": {
   "display_name": "Python 3",
   "language": "python",
   "name": "python3"
  },
  "language_info": {
   "codemirror_mode": {
    "name": "ipython",
    "version": 3
   },
   "file_extension": ".py",
   "mimetype": "text/x-python",
   "name": "python",
   "nbconvert_exporter": "python",
   "pygments_lexer": "ipython3",
   "version": "3.9.1"
  }
 },
 "nbformat": 4,
 "nbformat_minor": 4
}
