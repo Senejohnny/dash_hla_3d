{
 "cells": [
  {
   "cell_type": "code",
   "execution_count": 7,
   "metadata": {},
   "outputs": [],
   "source": [
    "import os\n",
    "\n",
    "# # List all files in a directory using os.listdir\n",
    "# basepath = '/Users/Danial/Repos/dash_hla_3d/data/HLAMolecule'\n",
    "# for entry in os.listdir(basepath):\n",
    "#     if os.path.isfile(os.path.join(basepath, entry)):\n",
    "#         print(entry)"
   ]
  },
  {
   "cell_type": "code",
   "execution_count": 8,
   "metadata": {},
   "outputs": [],
   "source": [
    "def get_hla_from_filename(filename):\n",
    "    splits = filename.split('-')\n",
    "    hlas = set()\n",
    "    for split in splits:\n",
    "        split = split.split('_')\n",
    "        hlas.add(split[0] + '*' + ':'.join(split[1:3]))\n",
    "    return hlas"
   ]
  },
  {
   "cell_type": "code",
   "execution_count": 9,
   "metadata": {},
   "outputs": [
    {
     "ename": "IndentationError",
     "evalue": "expected an indented block (<ipython-input-9-c7e411ef92f2>, line 6)",
     "output_type": "error",
     "traceback": [
      "\u001b[0;36m  File \u001b[0;32m\"<ipython-input-9-c7e411ef92f2>\"\u001b[0;36m, line \u001b[0;32m6\u001b[0m\n\u001b[0;31m    print([get_hla_from_filename(data) for data in test_data])\u001b[0m\n\u001b[0m    ^\u001b[0m\n\u001b[0;31mIndentationError\u001b[0m\u001b[0;31m:\u001b[0m expected an indented block\n"
     ]
    }
   ],
   "source": [
    "def test_get_hla_from_filename():\n",
    "    \n",
    "    test_data = ['DQA1_01_03-DQB1_06_01_V1.pdb', 'DRB1_01_03_V1.pdb']\n",
    "    for data in test_data:\n",
    "        \n",
    "    print([get_hla_from_filename(data) for data in test_data])\n",
    "    assert get_hla_from_filename('DRB1_01_03_V1.pdb') == set(['DRB1*01:03'])\n",
    "test_get_hla_from_filename()"
   ]
  },
  {
   "cell_type": "code",
   "execution_count": 10,
   "metadata": {},
   "outputs": [],
   "source": [
    "def get_inventory_hlas(base_dir):\n",
    "    \"\"\" This function returns all the hla & locus \n",
    "        available in the hla inventory \"\"\"\n",
    "    from collections import defaultdict\n",
    "    hlas = defaultdict(set)\n",
    "    with os.scandir(basepath) as entries:\n",
    "        for entry in entries:\n",
    "            if entry.is_dir():\n",
    "                for file in os.scandir(entry.path):\n",
    "#                     print(file.name, get_hla_from_filename(file.name))\n",
    "                    hlas[entry.name].update(get_hla_from_filename(file.name))\n",
    "    return hlas"
   ]
  },
  {
   "cell_type": "code",
   "execution_count": 17,
   "metadata": {},
   "outputs": [
    {
     "name": "stdout",
     "output_type": "stream",
     "text": [
      "33\n",
      "54\n",
      "19\n",
      "41\n",
      "28\n"
     ]
    }
   ],
   "source": [
    "base_dir = '/Users/Danial/Repos/dash_hla_3d/data/HLAMolecule'\n",
    "hlas = get_inventory_hlas(base_dir)\n",
    "# hlas.keys()\n",
    "print(len(hlas['A']))\n",
    "print(len(hlas['B']))\n",
    "print(len(hlas['C']))\n",
    "print(len(hlas['DR']))\n",
    "print(len(hlas['DQ']))"
   ]
  },
  {
   "cell_type": "code",
   "execution_count": 26,
   "metadata": {},
   "outputs": [
    {
     "name": "stdout",
     "output_type": "stream",
     "text": [
      "<class 'dict'>\n",
      "{\n",
      "    \"a\": \"b\"\n",
      "}\n"
     ]
    }
   ],
   "source": [
    "import json   \n",
    "       \n",
    "# Data to be written   \n",
    "dictionary ={  'a': 'b'\n",
    "}   \n",
    "print(type(dictionary))\n",
    "# Serializing json    \n",
    "json_object = json.dumps(dictionary, indent = 4)   \n",
    "print(json_object)  "
   ]
  },
  {
   "cell_type": "code",
   "execution_count": null,
   "metadata": {},
   "outputs": [],
   "source": []
  }
 ],
 "metadata": {
  "kernelspec": {
   "display_name": "Python 3",
   "language": "python",
   "name": "python3"
  },
  "language_info": {
   "codemirror_mode": {
    "name": "ipython",
    "version": 3
   },
   "file_extension": ".py",
   "mimetype": "text/x-python",
   "name": "python",
   "nbconvert_exporter": "python",
   "pygments_lexer": "ipython3",
   "version": "3.9.1"
  }
 },
 "nbformat": 4,
 "nbformat_minor": 4
}
