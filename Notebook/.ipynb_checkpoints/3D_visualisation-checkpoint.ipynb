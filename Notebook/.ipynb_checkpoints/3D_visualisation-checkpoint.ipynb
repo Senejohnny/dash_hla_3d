{
 "cells": [
  {
   "cell_type": "code",
   "execution_count": 1,
   "metadata": {},
   "outputs": [],
   "source": [
    "import json\n",
    "import numpy as np\n",
    "import pandas as pd\n",
    "from collections import defaultdict\n",
    "from typing import List\n",
    "import re\n",
    "# %matplotlib widget"
   ]
  },
  {
   "cell_type": "code",
   "execution_count": 2,
   "metadata": {},
   "outputs": [],
   "source": [
    "#######################################################\n",
    "# flatten\n",
    "####################################################### \n",
    "\n",
    "def flatten2list(object):\n",
    "    \"\"\" This function flattens objects in a nested structure \"\"\"\n",
    "    gather = []\n",
    "    for item in object:\n",
    "        if isinstance(item, (list, set)):\n",
    "            gather.extend(flatten2list(item))            \n",
    "        else:\n",
    "            gather.append(item)\n",
    "    return gather\n",
    "\n",
    "def flatten2set(object) -> set:\n",
    "    \"\"\" This function flattens objects in a nested structure and return a set\"\"\"\n",
    "\n",
    "    return set(flatten2list(object))\n",
    "\n",
    "#######################################################\n",
    "# epitope dataset\n",
    "####################################################### \n",
    "def dispatch_dict(operator, x, value):\n",
    "    return {\n",
    "    '==': lambda: x == value,\n",
    "    \">\": lambda:  x > value,\n",
    "    \"<\": lambda:  x < value,\n",
    "    }.get(operator, lambda: None)()\n",
    "\n",
    "#######################################################\n",
    "# epitope dataset\n",
    "####################################################### \n",
    "class Epitope_DB:\n",
    "    \n",
    "    def __init__(self, path:str='../data/20201123_EpitopevsHLA.pickle'):\n",
    "        self.df = pd.read_pickle(path)\n",
    "        \n",
    "    def __repr__(self):\n",
    "        return f\"\"\" Epitope_DB(records={len(self.df)}, columns={self.df.columns}) \"\"\"\n",
    "    \n",
    "    def __str__(self):\n",
    "        return __repr__()\n",
    "    \n",
    "    def epitope(self, value):\n",
    "        if isinstance(value, str):\n",
    "            ind = self.df.Epitope == value \n",
    "        else: \n",
    "            ind = self.df.Epitope.apply(lambda x: x in value) \n",
    "        self.df = self.df[ind]\n",
    "        return self\n",
    "    \n",
    "    def ellipro(self, value):\n",
    "        if isinstance(value, str):\n",
    "            ind = self.df.Epitope == value \n",
    "        else: \n",
    "            ind = self.df['ElliPro Score'].apply(lambda x: x in value) \n",
    "        self.df = self.df[ind]\n",
    "        return self\n",
    "    \n",
    "    def hlavsep(self, hla_allel:str='Luminex Alleles'):\n",
    "        import pandas as pd\n",
    "        from collections import defaultdict\n",
    "        \n",
    "        hlas = flatten2set(self.df[hla_allel].values)\n",
    "        hlavsep_dict = defaultdict(list)\n",
    "        for hla in hlas:\n",
    "            ind = self.df[hla_allel].apply(lambda x: hla in x)\n",
    "            epitopes = flatten2set(self.df[ind]['Epitope'].values)\n",
    "            hlavsep_dict['HLA'].append(hla)\n",
    "            hlavsep_dict['Epitope'].append(epitopes)\n",
    "        self._hlavsep = pd.DataFrame(hlavsep_dict)\n",
    "        return self._hlavsep\n",
    "\n",
    "    def min_hlavsep(self, epitopes):\n",
    "        _epitopes = epitopes.copy()\n",
    "        hlavsep_df = self.hlavsep()\n",
    "        hla_ep = defaultdict(set)\n",
    "        while len(_epitopes) != 0:\n",
    "            ind_max = hlavsep_df.Epitope.apply(lambda x: len(x.intersection(_epitopes))).sort_values().index[-1]\n",
    "            hla = hlavsep_df.iloc[ind_max].HLA\n",
    "            ep = hlavsep_df.iloc[ind_max].Epitope.intersection(_epitopes)\n",
    "            hla_ep[hla] = ep\n",
    "            _epitopes.difference_update(ep)\n",
    "        return dict(hla_ep)\n",
    "    \n",
    "#######################################################\n",
    "# desa dataset\n",
    "####################################################### \n",
    "class DESA_DB:\n",
    "    \n",
    "    def __init__(self, path:str='../data/desa_3d_view.pickle'):\n",
    "        self.df = pd.read_pickle(path)\n",
    "        \n",
    "    def __repr__(self):\n",
    "        return f\"\"\" DESA_DB(records={len(self.df)}, columns={self.df.columns}) \"\"\"\n",
    "    \n",
    "    def __str__(self):\n",
    "        return __repr__()\n",
    "    \n",
    "    def donor_type(self, donor_type:str='Deceased'):\n",
    "        if donor_type not in ['Living', 'Deceased']:\n",
    "            raise KeyError(f'{donor_type} does not exist in the df values, accepted values: {self.df.Donor_Type.unique()}')\n",
    "        ind = self.df.Donor_Type.apply(lambda x: x == donor_type)                          \n",
    "        self.df = self.df[ind]\n",
    "        return self\n",
    "        \n",
    "    def hla_class(self, hla_class):\n",
    "        if hla_class not in ['I', 'II', 'I,II']:\n",
    "            raise KeyError(f'{hla_class} does not exist in the df values, accepted values: {self.df.Donor_HLA_Class.unique()}')\n",
    "        ind = self.df.Donor_HLA_Class.apply(lambda x: x == hla_class)                          \n",
    "        self.df = self.df[ind]\n",
    "        return self\n",
    "        \n",
    "    def early_failed(self, threshold):\n",
    "        ind_t = self.df['Survival[Y]'].apply(lambda x:  x < threshold)\n",
    "        ind_e = self.df.Failure.apply(lambda x: x == 1)\n",
    "        self.df = self.df[ind_t & ind_e]\n",
    "        return self\n",
    "\n",
    "    def late_failed(self, threshold:int):\n",
    "        ind_t = self.df['Survival[Y]'].apply(lambda x: x > threshold)\n",
    "        ind_e = self.df.Failure.apply(lambda x: x != 1 )\n",
    "        self.df = self.df[ind_t & ind_e]\n",
    "        return self\n",
    "    \n",
    "    def desa_num(self, num:List[int]):\n",
    "        ind = self.df['#DESA'].apply(lambda x: x in num)\n",
    "        self.df = self.df[ind]\n",
    "        return self\n",
    "    \n"
   ]
  },
  {
   "cell_type": "markdown",
   "metadata": {},
   "source": [
    "# Find relevant Epitopes to feed HLA 3D app"
   ]
  },
  {
   "cell_type": "code",
   "execution_count": 3,
   "metadata": {},
   "outputs": [
    {
     "name": "stdout",
     "output_type": "stream",
     "text": [
      "Early Epitopes ['57DE', '45KE', '73AS', '45EV', '144QL', '51R', '66IF']\n",
      "Late Epitopes ['57DE', '44RT', '55PPA', '161D', '76ANT', '45EV', '163RG', '48Q', '97V', '158T', '62LQ', '37FL', '152RR']\n",
      "Early - Late Epitopes ['45KE', '73AS', '144QL', '51R', '66IF']\n",
      "Late - Early Epitopes ['44RT', '55PPA', '76ANT', '161D', '163RG', '48Q', '97V', '158T', '62LQ', '37FL', '152RR']\n"
     ]
    }
   ],
   "source": [
    "desa_db = DESA_DB()\n",
    "# desa_early = desa_db.hla_class('I').desa_num([1]).donor_type('Deceased').early_failed(1/6).df\n",
    "desa_early = desa_db.desa_num([1, 2]).donor_type('Deceased').early_failed(1/6).df\n",
    "ep_early = set(flatten2list([set(item.keys()) for item in flatten2list(desa_early.EpvsHLA_Donor.values)]))\n",
    "\n",
    "desa_db = DESA_DB()\n",
    "# desa_late = desa_db.hla_class('I').desa_num([1]).donor_type('Deceased').late_failed(10).df\n",
    "desa_late = desa_db.desa_num([1, 2]).donor_type('Deceased').late_failed(10).df\n",
    "ep_late = set(flatten2list([set(item.keys()) for item in flatten2list(desa_late.EpvsHLA_Donor.values)]))\n",
    "\n",
    "relevant_ep = ep_early - ep_late\n",
    "\n",
    "irrelevant_ep = ep_late - ep_early\n",
    "\n",
    "relevant_ep, len(relevant_ep)\n",
    "\n",
    "print('Early Epitopes', list(ep_early))\n",
    "print('Late Epitopes', list(ep_late))\n",
    "print('Early - Late Epitopes', list(relevant_ep))\n",
    "print('Late - Early Epitopes', list(irrelevant_ep))"
   ]
  },
  {
   "cell_type": "code",
   "execution_count": 5,
   "metadata": {},
   "outputs": [
    {
     "data": {
      "text/plain": [
       " DESA_DB(records=71, columns=Index(['TransplantID', 'Status', 'DESA_Epitope', '#DESA', 'EpvsHLA_Pos',\n",
       "       'EpvsHLA_Donor', 'Failure', 'Survival[Y]', 'DESA->Donor_HLA',\n",
       "       'Donor_HLA', 'Donor_HLA_Class', 'Donor_Type'],\n",
       "      dtype='object')) "
      ]
     },
     "execution_count": 5,
     "metadata": {},
     "output_type": "execute_result"
    }
   ],
   "source": [
    "desa_db = DESA_DB()\n",
    "desa_db.hla_class('II').desa_num([1, 2])"
   ]
  },
  {
   "cell_type": "code",
   "execution_count": null,
   "metadata": {},
   "outputs": [],
   "source": []
  },
  {
   "cell_type": "code",
   "execution_count": 6,
   "metadata": {},
   "outputs": [
    {
     "data": {
      "text/plain": [
       "array([{'55PPA', '45GV', '185I', '161D'}], dtype=object)"
      ]
     },
     "execution_count": 6,
     "metadata": {},
     "output_type": "execute_result"
    }
   ],
   "source": [
    "desa_db = DESA_DB()\n",
    "desa_early = desa_db.hla_class('I,II').donor_type('Deceased').early_failed(1/6).df\n",
    "desa_early[0:1].DESA_Epitope.values"
   ]
  },
  {
   "cell_type": "code",
   "execution_count": 7,
   "metadata": {},
   "outputs": [],
   "source": [
    "desa_db = DESA_DB().df\n",
    "len(desa_db[desa_db.TransplantID==1903].EpvsHLA_Donor.values.tolist()[0])\n",
    "a = sorted(desa_db[desa_db.TransplantID==1903].DESA_Epitope.values[0])\n",
    "b = {'108T', '125G', '142M', '144KR', '161D', '28H', '30D', '37S', '37YA', '38L', '45GV', \n",
    "'46VY', '52PQ', '55R', '55RPD', '56PD', '66EV', '67F', '67VG', '67VT', '70DA', '70DRA', \n",
    "'70GT', '70QA', '70QT', '71A', '74A', '74EL', '77T[DQ]', '86A', '87F', '96EV', '97I', '9F[DQ]'}"
   ]
  },
  {
   "cell_type": "code",
   "execution_count": 8,
   "metadata": {},
   "outputs": [
    {
     "data": {
      "text/plain": [
       "{'B*51:01': {'66IF'},\n",
       " 'C*07:01': {'73AS'},\n",
       " 'B*45:01': {'45KE'},\n",
       " 'B*13:01': {'144QL'}}"
      ]
     },
     "execution_count": 8,
     "metadata": {},
     "output_type": "execute_result"
    }
   ],
   "source": [
    "ep_db = Epitope_DB()\n",
    "hlavsep = ep_db.min_hlavsep(relevant_ep)\n",
    "hlavsep"
   ]
  },
  {
   "cell_type": "code",
   "execution_count": 11,
   "metadata": {},
   "outputs": [
    {
     "data": {
      "text/html": [
       "<div>\n",
       "<style scoped>\n",
       "    .dataframe tbody tr th:only-of-type {\n",
       "        vertical-align: middle;\n",
       "    }\n",
       "\n",
       "    .dataframe tbody tr th {\n",
       "        vertical-align: top;\n",
       "    }\n",
       "\n",
       "    .dataframe thead th {\n",
       "        text-align: right;\n",
       "    }\n",
       "</style>\n",
       "<table border=\"1\" class=\"dataframe\">\n",
       "  <thead>\n",
       "    <tr style=\"text-align: right;\">\n",
       "      <th></th>\n",
       "      <th>Epitope</th>\n",
       "      <th>ElliPro Score</th>\n",
       "      <th>PolymorphicResidues</th>\n",
       "      <th>AntibodyReactivity</th>\n",
       "      <th>Luminex Alleles</th>\n",
       "      <th>All Alleles</th>\n",
       "      <th>distance [A]</th>\n",
       "      <th>mean_distance [A]</th>\n",
       "      <th>std_distance [A]</th>\n",
       "      <th>mAb</th>\n",
       "      <th>Location</th>\n",
       "    </tr>\n",
       "  </thead>\n",
       "  <tbody>\n",
       "    <tr>\n",
       "      <th>218</th>\n",
       "      <td>275K</td>\n",
       "      <td>High</td>\n",
       "      <td>[(275, K)]</td>\n",
       "      <td>unknown</td>\n",
       "      <td>{C*17:01, C*18:02, C*18:01, C*04:01, C*04:03, ...</td>\n",
       "      <td>{C*04:13, C*04:05, C*04:31, C*04:27, C*04:03, ...</td>\n",
       "      <td>{'C*04:03': 18.47, 'B*73:01': 20.307}</td>\n",
       "      <td>19.3885</td>\n",
       "      <td>0.9185</td>\n",
       "      <td>unknown</td>\n",
       "      <td>{'B*73:01': [37.25, -4.21, 30.14], 'C*04:03': ...</td>\n",
       "    </tr>\n",
       "  </tbody>\n",
       "</table>\n",
       "</div>"
      ],
      "text/plain": [
       "    Epitope ElliPro Score PolymorphicResidues AntibodyReactivity  \\\n",
       "218    275K          High          [(275, K)]            unknown   \n",
       "\n",
       "                                       Luminex Alleles  \\\n",
       "218  {C*17:01, C*18:02, C*18:01, C*04:01, C*04:03, ...   \n",
       "\n",
       "                                           All Alleles  \\\n",
       "218  {C*04:13, C*04:05, C*04:31, C*04:27, C*04:03, ...   \n",
       "\n",
       "                              distance [A]  mean_distance [A]  \\\n",
       "218  {'C*04:03': 18.47, 'B*73:01': 20.307}            19.3885   \n",
       "\n",
       "     std_distance [A]      mAb  \\\n",
       "218            0.9185  unknown   \n",
       "\n",
       "                                              Location  \n",
       "218  {'B*73:01': [37.25, -4.21, 30.14], 'C*04:03': ...  "
      ]
     },
     "execution_count": 11,
     "metadata": {},
     "output_type": "execute_result"
    }
   ],
   "source": [
    "ep_db.df[ep_db.df.Epitope.apply(lambda x: x.startswith('275'))]"
   ]
  },
  {
   "cell_type": "markdown",
   "metadata": {},
   "source": [
    "# Cartesian Visualisation:"
   ]
  },
  {
   "cell_type": "code",
   "execution_count": 18,
   "metadata": {},
   "outputs": [],
   "source": [
    "def load_epitope_db():\n",
    "    \"\"\"This function loads the Epitopes from different tables\n",
    "    \"\"\"\n",
    "    desa = pd.read_pickle('../data/20201123_EpitopevsHLA.pickle')\n",
    "    return desa\n",
    "\n",
    "def load_desa_db():\n",
    "    \"\"\"This function loads the Epitopes from different tables\n",
    "    \"\"\"\n",
    "    desa = pd.read_pickle('../data/desa_db.pickle')\n",
    "    return desa\n",
    "\n",
    "#######################################################\n",
    "# get HLA locus\n",
    "#######################################################\n",
    "def get_hla_locus(hla:str) -> str:\n",
    "    \"\"\" get the long locus (max 3 letters of gene) of hla \"\"\"\n",
    "\n",
    "    gene = hla.split('*')[0]\n",
    "    return gene if len(gene) == 1 else gene[0:3]\n",
    "\n",
    "#######################################################\n",
    "# get HLA class\n",
    "#######################################################\n",
    "def get_hla_class(locus:str) -> str:\n",
    "    \"\"\" get the hla class of a hla locus \"\"\"\n",
    "\n",
    "    hla_class = {'A':'Class_I', 'B':'Class_I', 'C':'Class_I', \n",
    "                 'DRB':'Class_II', 'DQA':'Class_II', 'DQB':'Class_II'}\n",
    "    return hla_class.get(locus, 'Locus not found')\n",
    "\n",
    "    \n",
    "#######################################################\n",
    "# get HLA class from path\n",
    "#######################################################\n",
    "def get_hla_class_from_path(path:str) -> str:\n",
    "    \"\"\" get the long locus (max 3 letters of gene) of hla \"\"\"\n",
    "    \n",
    "    hla_class = {'A':'Class_I', 'B':'Class_I', 'C':'Class_I', \n",
    "                 'DRB':'Class_II', 'DQA':'Class_II', 'DQB':'Class_II'}\n",
    "    hla = path.split('/')[-1].split('_')[0]\n",
    "    locus = get_hla_locus(hla)\n",
    "    return hla_class[locus]\n",
    "\n",
    "#######################################################\n",
    "# pars pdb file\n",
    "#######################################################\n",
    "def pdb_parser(pdb_path:list):\n",
    "    # Read PDB file to create atom/bond information\n",
    "    with open(pdb_path, 'r') as infile:\n",
    "        # store only non-empty lines\n",
    "        lines = [l.strip() for l in infile if l.strip()]\n",
    "    \n",
    "    hla_class = get_hla_class_from_path(pdb_path)\n",
    "    data = defaultdict(lambda: defaultdict(list))\n",
    "    # Variables that store the character positions of different\n",
    "    # parameters from the molecule PDB file\n",
    "    serialpos = slice(6,11) \n",
    "    atm_namepos = slice(12, 16) \n",
    "    r_namepos = slice(17, 20) \n",
    "    chainpos = slice(21, 22) \n",
    "    r_idpos = slice(22, 26) \n",
    "    xpos = slice(30, 38) \n",
    "    ypos = slice(38, 46) \n",
    "    zpos = slice(46, 54) \n",
    "    occupos = slice(54, 60) \n",
    "    bfacpos = slice(60, 66) \n",
    "    atm_typepos = slice(77,79)\n",
    "\n",
    "    for l in lines:\n",
    "        line = l.split()\n",
    "        if line[0] in [\"ATOM\", \"HETATM\"]:\n",
    "            chain = l[chainpos].strip()\n",
    "            x = float(l[xpos])\n",
    "            y = float(l[ypos])\n",
    "            z = float(l[zpos])\n",
    "            data[hla_class][chain].append(np.array([x, y, z]))\n",
    "    return data\n",
    "        \n",
    "\n",
    "#######################################################\n",
    "# 3D to 2D Projection \n",
    "#######################################################\n",
    "def loc_2_coord(atoms:List[np.array], dis:int=60):\n",
    "    x, y, z = [], [], []\n",
    "    for atom in atoms:\n",
    "        x.append(atom[0])\n",
    "        y.append(atom[1])\n",
    "        z.append(atom[2])\n",
    "        \n",
    "    proj_xy = (np.array(x), np.array(y), -dis * np.ones(len(atoms)))\n",
    "    proj_xz = (np.array(x),  -dis * np.ones(len(atoms)), np.array(z))\n",
    "    proj_yz = (-dis * np.ones(len(atoms)), np.array(y), np.array(z))\n",
    "    return proj_xy, proj_xz, proj_yz\n",
    "\n",
    "\n",
    "#######################################################\n",
    "# Visualise Projection \n",
    "#######################################################\n",
    "\n",
    "def visualise_proj(data, hla_class, ep_coord):\n",
    "    \n",
    "    chain_colors = {\n",
    "            \"A\": \"#65A5E2\", # Blue\n",
    "            \"B\": \"#CA7FE5\", # purple\n",
    "            \"C\": \"#65E2AB\", # green\n",
    "    }\n",
    "    \n",
    "    import matplotlib as mpl\n",
    "    from mpl_toolkits.mplot3d import Axes3D\n",
    "    import numpy as np\n",
    "    import matplotlib.pyplot as plt\n",
    "    \n",
    "    mpl.rcParams['legend.fontsize'] = 10\n",
    "\n",
    "    fig = plt.figure()\n",
    "    ax = fig.gca(projection='3d')\n",
    "    alpha = 0.02\n",
    "    \n",
    "    proj_xy, proj_xz, proj_yz = loc_2_coord(data[hla_class]['A'])\n",
    "    ax.scatter(proj_xy[0], proj_xy[1], proj_xy[2], s=10, c=chain_colors['A'], alpha=alpha)\n",
    "    ax.scatter(proj_xz[0], proj_xz[1], proj_xz[2], s=10, c=chain_colors['A'], alpha=alpha)\n",
    "    ax.scatter(proj_yz[0], proj_yz[1], proj_yz[2], s=10, c=chain_colors['A'], alpha=alpha)\n",
    "\n",
    "    proj_xy, proj_xz, proj_yz = loc_2_coord(data[hla_class]['B'])\n",
    "    ax.scatter(proj_xy[0], proj_xy[1], proj_xy[2], s=10, c=chain_colors['B'], alpha=alpha)\n",
    "    ax.scatter(proj_xz[0], proj_xz[1], proj_xz[2], s=10, c=chain_colors['B'], alpha=alpha)\n",
    "    ax.scatter(proj_yz[0], proj_yz[1], proj_yz[2], s=10, c=chain_colors['B'], alpha=alpha)\n",
    "\n",
    "    proj_xy, proj_xz, proj_yz = loc_2_coord(data[hla_class]['C'])\n",
    "    ax.scatter(proj_xy[0], proj_xy[1], proj_xy[2], s=10, c=chain_colors['C'], alpha=alpha)\n",
    "    ax.scatter(proj_xz[0], proj_xz[1], proj_xz[2], s=10, c=chain_colors['C'], alpha=alpha)\n",
    "    ax.scatter(proj_yz[0], proj_yz[1], proj_yz[2], s=10, c=chain_colors['C'], alpha=alpha)\n",
    "    \n",
    "    proj_xy, proj_xz, proj_yz = loc_2_coord(ep_coord)\n",
    "    ax.scatter(proj_xy[0], proj_xy[1], proj_xy[2], s=10, c='y')\n",
    "    ax.scatter(proj_xz[0], proj_xz[1], proj_xz[2], s=10, c='y')\n",
    "    ax.scatter(proj_yz[0], proj_yz[1], proj_yz[2], s=10, c='y')\n",
    "\n",
    "    ax.set_xlabel('X')\n",
    "    ax.set_ylabel('Y')\n",
    "    ax.set_zlabel('Z')\n",
    "    \n",
    "    ax.set_title(f'HLA {hla_class}')\n",
    "    plt.show()\n",
    "\n",
    "\n",
    "        "
   ]
  },
  {
   "cell_type": "code",
   "execution_count": 19,
   "metadata": {},
   "outputs": [],
   "source": [
    "pdb_path = '../data/HLAMolecule/A/A_01_01_V1.pdb'\n",
    "# get_hla_class_from_path(pdb_path)\n",
    "data = pdb_parser(pdb_path)"
   ]
  },
  {
   "cell_type": "code",
   "execution_count": 20,
   "metadata": {},
   "outputs": [
    {
     "data": {
      "text/plain": [
       "{'B*15:10': [45.97, 87.81, 33.5],\n",
       " 'B*14:02': [30.05, -6.31, 33.63],\n",
       " 'B*48:01': [-4.68, -5.75, -33.05],\n",
       " 'B*15:12': [29.95, 34.68, 33.67],\n",
       " 'B*41:01': [4.6, 6.54, -33.68],\n",
       " 'B*35:01': [21.05, 75.55, 75.86],\n",
       " 'B*15:03': [29.86, 34.79, 33.55],\n",
       " 'B*40:02': [-4.43, -6.38, -33.42],\n",
       " 'B*78:01': [-4.73, 35.18, 22.02],\n",
       " 'B*39:01': [-4.49, 5.55, 33.21],\n",
       " 'B*50:01': [-4.44, -6.43, -33.42],\n",
       " 'B*18:01': [4.45, 5.56, -33.02],\n",
       " 'B*15:02': [29.91, 34.84, 33.4],\n",
       " 'B*07:03': [4.73, 6.06, -33.27],\n",
       " 'B*40:01': [4.74, 6.68, -33.81],\n",
       " 'B*14:01': [30.21, -6.52, 33.85],\n",
       " 'B*45:01': [4.45, 6.68, -33.59],\n",
       " 'B*15:11': [46.0, 87.58, 32.99],\n",
       " 'B*35:08': [30.11, 6.96, 21.63],\n",
       " 'B*08:01': [-4.72, -6.16, -33.45],\n",
       " 'B*15:18': [45.99, 87.65, 33.25],\n",
       " 'B*40:06': [-4.52, -6.75, -33.62],\n",
       " 'B*15:01': [29.95, 34.89, 33.3]}"
      ]
     },
     "execution_count": 20,
     "metadata": {},
     "output_type": "execute_result"
    }
   ],
   "source": [
    "ep_db = load_epitope_db()\n",
    "# desa_db = load_desa_db()\n",
    "dict(ep_db[ep_db.Epitope == '71TTS'].Location.values[0])"
   ]
  },
  {
   "cell_type": "code",
   "execution_count": 21,
   "metadata": {},
   "outputs": [],
   "source": [
    "desa_db = DESA_DB()\n",
    "# # dir(desa_db.early_failed(1/4))\n",
    "db = desa_db.early_failed(1/4)\n",
    "# # desa_db.late_failed(10)\n",
    "# db.df"
   ]
  },
  {
   "cell_type": "code",
   "execution_count": 22,
   "metadata": {},
   "outputs": [
    {
     "name": "stdout",
     "output_type": "stream",
     "text": [
      "KeyError: epitope 71TTS does not have location for hla B*39:06\n",
      "KeyError: epitope 158T does not have location for hla B*39:06\n",
      "KeyError: epitope 76ESN does not have location for hla B*39:06\n",
      "KeyError: epitope 63NI does not have location for hla B*39:06\n"
     ]
    }
   ],
   "source": [
    "def get_desa_coord(desa_df, ep_df):\n",
    "    \n",
    "    coord = []\n",
    "    for ep_hla in desa_df[desa_df.Donor_HLA_Class == 'I'].EpvsHLA_Donor.values.tolist():\n",
    "        for ep, hla in ep_hla.items():\n",
    "            try:\n",
    "                _coord = dict(ep_df[ep_df.Epitope == ep].Location.values[0])[hla]\n",
    "                coord.append(_coord)\n",
    "            except Exception as e:\n",
    "                print(f'{type(e).__name__}: epitope {ep} does not have location for hla {hla}')\n",
    "    return np.array(coord)\n",
    "\n",
    "ep_coord = get_desa_coord(db.df, ep_db)                "
   ]
  },
  {
   "cell_type": "code",
   "execution_count": null,
   "metadata": {},
   "outputs": [],
   "source": []
  },
  {
   "cell_type": "code",
   "execution_count": 12,
   "metadata": {},
   "outputs": [
    {
     "data": {
      "application/vnd.jupyter.widget-view+json": {
       "model_id": "94ff95439c594f8ab38932418b47606e",
       "version_major": 2,
       "version_minor": 0
      },
      "text/plain": [
       "Canvas(toolbar=Toolbar(toolitems=[('Home', 'Reset original view', 'home', 'home'), ('Back', 'Back to previous …"
      ]
     },
     "metadata": {},
     "output_type": "display_data"
    }
   ],
   "source": [
    "# plt.close('all')\n",
    "# visualise_proj(data, 'Class_I')\n",
    "visualise_proj(data, 'Class_I', ep_coord)"
   ]
  },
  {
   "cell_type": "code",
   "execution_count": null,
   "metadata": {},
   "outputs": [],
   "source": []
  }
 ],
 "metadata": {
  "kernelspec": {
   "display_name": "Python 3",
   "language": "python",
   "name": "python3"
  },
  "language_info": {
   "codemirror_mode": {
    "name": "ipython",
    "version": 3
   },
   "file_extension": ".py",
   "mimetype": "text/x-python",
   "name": "python",
   "nbconvert_exporter": "python",
   "pygments_lexer": "ipython3",
   "version": "3.9.1"
  }
 },
 "nbformat": 4,
 "nbformat_minor": 4
}
