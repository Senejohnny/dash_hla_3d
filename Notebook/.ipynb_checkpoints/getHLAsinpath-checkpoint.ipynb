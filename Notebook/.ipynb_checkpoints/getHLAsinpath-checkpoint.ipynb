{
 "cells": [
  {
   "cell_type": "code",
   "execution_count": 27,
   "metadata": {},
   "outputs": [],
   "source": [
    "import os\n",
    "import json   "
   ]
  },
  {
   "cell_type": "code",
   "execution_count": 28,
   "metadata": {},
   "outputs": [],
   "source": [
    "def get_hla_from_filename(filename):\n",
    "    splits = filename.split('-')\n",
    "    hlas = set()\n",
    "    for split in splits:\n",
    "        split = split.split('_')\n",
    "        hlas.add(split[0] + '*' + ':'.join(split[1:3]))\n",
    "    return hlas"
   ]
  },
  {
   "cell_type": "code",
   "execution_count": 30,
   "metadata": {},
   "outputs": [],
   "source": [
    "def test_get_hla_from_filename():\n",
    "    test_data = ['DQA1_01_03-DQB1_06_01_V1.pdb', 'DRB1_01_03_V1.pdb']\n",
    "    for data in test_data:    \n",
    "        assert get_hla_from_filename('DRB1_01_03_V1.pdb') == set(['DRB1*01:03'])\n",
    "test_get_hla_from_filename()"
   ]
  },
  {
   "cell_type": "code",
   "execution_count": 31,
   "metadata": {},
   "outputs": [],
   "source": [
    "def get_inventory_hlas(base_dir):\n",
    "    \"\"\" This function returns all the hla & locus \n",
    "        available in the hla inventory \"\"\"\n",
    "    from collections import defaultdict\n",
    "    hlas = defaultdict(set)\n",
    "    with os.scandir(basepath) as entries:\n",
    "        for entry in entries:\n",
    "            if entry.is_dir():\n",
    "                for file in os.scandir(entry.path):\n",
    "#                     print(file.name, get_hla_from_filename(file.name))\n",
    "                    hlas[entry.name].update(get_hla_from_filename(file.name))\n",
    "    return hlas"
   ]
  },
  {
   "cell_type": "code",
   "execution_count": 32,
   "metadata": {},
   "outputs": [
    {
     "name": "stdout",
     "output_type": "stream",
     "text": [
      "{\n",
      "    \"DR\": \"{'DRB1*03:03', 'DRB1*11:04', 'DRB1*15:01', 'DRB1*14:03', 'DRB3*02:02', 'DRB1*13:01', 'DRB1*01:01', 'DRB1*11:03', 'DRB1*04:03', 'DRB5*02:02', 'DRB1*04:04', 'DRB1*08:02', 'DRB1*09:02', 'DRB4*01:01', 'DRB1*13:05', 'DRB1*12:02', 'DRB1*04:01', 'DRB1*16:01', 'DRB1*14:04', 'DRB1*12:01', 'DRB1*16:02', 'DRB1*14:54', 'DRB1*11:01', 'DRB1*15:02', 'DRB1*14:01', 'DRB1*03:01', 'DRB3*01:01', 'DRB1*08:01', 'DRB1*01:03', 'DRB5*01:01', 'DRB3*03:01', 'DRB1*10:01', 'DRB1*04:02', 'DRB1*09:01', 'DRB1*01:02', 'DRB4*01:03', 'DRB1*03:02', 'DRB1*07:01', 'DRB1*04:05', 'DRB1*13:03', 'DRB1*14:02'}\",\n",
      "    \"A\": \"{'A*23:01', 'A*24:02', 'A*68:02', 'A*74:01', 'A*26:01', 'A*66:02', 'A*02:03', 'A*34:02', 'A*29:01', 'A*11:02', 'A*01:01', 'A*69:01', 'A*02:01', 'A*32:01', 'A*68:01', 'A*03:01', 'A*11:01', 'A*80:01', 'A*29:02', 'A*34:01', 'A*43:01', 'A*66:01', 'A*24:03', 'A*25:01', 'A*02:02', 'A*30:02', 'A*33:03', 'A*30:01', 'A*33:01', 'A*02:05', 'A*36:01', 'A*02:06', 'A*31:01'}\",\n",
      "    \"DQ\": \"{'DQB1*03:03', 'DQB1*03:01', 'DQB1*05:02', 'DQA1*05:01', 'DQA1*01:01', 'DQB1*06:02', 'DQB1*05:03', 'DQB1*02:02', 'DQA1*03:03', 'DQA1*04:01', 'DQB1*06:04', 'DQB1*06:01', 'DQB1*05:01', 'DQB1*02:01', 'DQA1*01:02', 'DQB1*04:02', 'DQB1*06:09', 'DQA1*05:03', 'DQA1*02:01', 'DQB1*06:03', 'DQA1*03:02', 'DQA1*06:01', 'DQA1*01:04', 'DQA1*05:05', 'DQB1*04:01', 'DQA1*01:03', 'DQA1*03:01', 'DQB1*03:02'}\",\n",
      "    \"C\": \"{'C*08:02', 'C*16:01', 'C*03:03', 'C*15:02', 'C*03:02', 'C*03:04', 'C*01:02', 'C*04:01', 'C*02:02', 'C*12:02', 'C*04:03', 'C*08:01', 'C*17:01', 'C*05:01', 'C*07:02', 'C*18:02', 'C*12:03', 'C*14:02', 'C*06:02'}\",\n",
      "    \"B\": \"{'B*13:01', 'B*78:01', 'B*73:01', 'B*42:01', 'B*15:11', 'B*48:01', 'B*15:16', 'B*56:01', 'B*58:01', 'B*38:01', 'B*39:01', 'B*27:05', 'B*44:02', 'B*46:01', 'B*67:01', 'B*15:02', 'B*37:01', 'B*07:03', 'B*15:10', 'B*52:01', 'B*81:01', 'B*27:03', 'B*82:01', 'B*57:03', 'B*41:01', 'B*14:02', 'B*08:01', 'B*53:01', 'B*57:01', 'B*54:01', 'B*15:12', 'B*51:01', 'B*15:01', 'B*13:02', 'B*40:02', 'B*51:02', 'B*49:01', 'B*15:03', 'B*50:01', 'B*07:02', 'B*40:06', 'B*59:01', 'B*40:01', 'B*55:01', 'B*44:03', 'B*27:08', 'B*35:08', 'B*45:01', 'B*14:01', 'B*18:01', 'B*47:01', 'B*15:13', 'B*35:01', 'B*15:18'}\"\n",
      "}\n"
     ]
    }
   ],
   "source": [
    "\n",
    "base_dir = '/Users/Danial/Repos/dash_hla_3d/data/HLAMolecule'\n",
    "hlas = get_inventory_hlas(base_dir)\n",
    "for hla in hlas.__iter__():\n",
    "    hlas[hla] = str(hlas[hla])\n",
    "print(json.dumps(hlas, indent = 4))"
   ]
  }
 ],
 "metadata": {
  "kernelspec": {
   "display_name": "Python 3",
   "language": "python",
   "name": "python3"
  },
  "language_info": {
   "codemirror_mode": {
    "name": "ipython",
    "version": 3
   },
   "file_extension": ".py",
   "mimetype": "text/x-python",
   "name": "python",
   "nbconvert_exporter": "python",
   "pygments_lexer": "ipython3",
   "version": "3.9.1"
  }
 },
 "nbformat": 4,
 "nbformat_minor": 4
}
