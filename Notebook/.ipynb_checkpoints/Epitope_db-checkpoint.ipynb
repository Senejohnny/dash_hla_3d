{
 "cells": [
  {
   "cell_type": "code",
   "execution_count": 6,
   "metadata": {},
   "outputs": [],
   "source": [
    "import pandas as pd\n",
    "import numpy as np"
   ]
  },
  {
   "cell_type": "code",
   "execution_count": 3,
   "metadata": {},
   "outputs": [],
   "source": [
    "def flatten2list(object) -> list:\n",
    "    \"\"\" This function flattens objects in a nested structure and return a list\"\"\"\n",
    "    gather = []\n",
    "    for item in object:\n",
    "        if isinstance(item, (list, set)):\n",
    "            gather.extend(flatten2list(item))            \n",
    "        else:\n",
    "            gather.append(item)\n",
    "    return gather\n",
    "\n",
    "def flatten2set(object) -> set:\n",
    "    \"\"\" This function flattens objects in a nested structure and return a set\"\"\"\n",
    "\n",
    "    return set(flatten2list(object))\n",
    "\n",
    "#######################################################\n",
    "# epitope class\n",
    "####################################################### \n",
    "\n",
    "class Epitope_DB:\n",
    "    \n",
    "    def __init__(self, path:str='../data/20201123_EpitopevsHLA.pickle'):\n",
    "        self.df = pd.read_pickle(path)\n",
    "        \n",
    "    def __repr__(self):\n",
    "        return f\"\"\" Epitope_DB(records={len(self.df)}, columns={self.df.columns}) \"\"\"\n",
    "    \n",
    "    def __str__(self):\n",
    "        return __repr__()\n",
    "    \n",
    "    def epitope(self, value):\n",
    "        if isinstance(value, str):\n",
    "            ind = self.df.Epitope == value \n",
    "        else: \n",
    "            ind = self.df.Epitope.apply(lambda x: x in value) \n",
    "        self.df = self.df[ind]\n",
    "        return self\n",
    "    \n",
    "    def hlavsep(self, hla_allel:str='Luminex Alleles'):\n",
    "        from collections import defaultdict\n",
    "        hlas = flatten2set(self.df[hla_allel].values[0])\n",
    "        hlavsep_dict = defaultdict(list)\n",
    "        for hla in hlas:\n",
    "            ind = self.df[hla_allel].apply(lambda x: hla in x)\n",
    "            epitopes = flatten2set(self.df[ind]['Epitope'].values)\n",
    "            hlavsep_dict[hla].append(epitopes)\n",
    "        return hlavsep_dict\n",
    "    \n",
    "    def ellipro(self, value):\n",
    "        if isinstance(value, str):\n",
    "            ind = self.df.Epitope == value \n",
    "        else: \n",
    "            ind = self.df['ElliPro Score'].apply(lambda x: x in value) \n",
    "        self.df = self.df[ind]\n",
    "        return self\n",
    "\n",
    "# Define a dictionary in which the new table will reside \n",
    "    HLA_Epitopes = {'HLA': [], 'Epitope': []}\n",
    "    # Get unique HLA and find all the Epitopes \n",
    "    for s in (Epitope_DB[Allel_type].values):\n",
    "        for HLA in s:\n",
    "            if HLA not in HLA_Epitopes['HLA']:\n",
    "                HLA_Epitopes['HLA'].append(HLA)\n",
    "                ind = Epitope_DB[Allel_type].apply(lambda x: HLA in x)\n",
    "                Epitope = set(Epitope_DB[ind]['Epitope'].values) # set assignment is taking place here\n",
    "                HLA_Epitopes['Epitope'].append(Epitope)"
   ]
  },
  {
   "cell_type": "code",
   "execution_count": 5,
   "metadata": {},
   "outputs": [
    {
     "data": {
      "text/plain": [
       " Epitope_DB(records=424, columns=Index(['Epitope', 'ElliPro Score', 'PolymorphicResidues', 'AntibodyReactivity',\n",
       "       'Luminex Alleles', 'All Alleles', 'distance [A]', 'mean_distance [A]',\n",
       "       'std_distance [A]', 'mAb', 'Location'],\n",
       "      dtype='object')) "
      ]
     },
     "execution_count": 5,
     "metadata": {},
     "output_type": "execute_result"
    }
   ],
   "source": [
    "ep_db = Epitope_DB()\n",
    "ep_db"
   ]
  },
  {
   "cell_type": "code",
   "execution_count": null,
   "metadata": {},
   "outputs": [],
   "source": []
  }
 ],
 "metadata": {
  "kernelspec": {
   "display_name": "Python 3",
   "language": "python",
   "name": "python3"
  },
  "language_info": {
   "codemirror_mode": {
    "name": "ipython",
    "version": 3
   },
   "file_extension": ".py",
   "mimetype": "text/x-python",
   "name": "python",
   "nbconvert_exporter": "python",
   "pygments_lexer": "ipython3",
   "version": "3.7.6"
  }
 },
 "nbformat": 4,
 "nbformat_minor": 4
}
