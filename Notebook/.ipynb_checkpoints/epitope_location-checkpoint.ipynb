{
 "cells": [
  {
   "cell_type": "code",
   "execution_count": 1,
   "metadata": {},
   "outputs": [],
   "source": [
    "import os\n",
    "import pandas as pd\n",
    "import numpy as np\n",
    "import regex as re\n",
    "from collections import defaultdict\n",
    "from typing import Tuple, List, NewType\n",
    "from tqdm.notebook import tqdm_notebook as tqdm\n",
    "\n",
    "import matplotlib.pyplot as plt\n",
    "import seaborn as sns \n",
    "# %config InlineBackend.figure_format = 'retina'\n",
    "\n",
    "import Bio\n",
    "from Bio.PDB import *\n",
    "import warnings\n",
    "warnings.filterwarnings('ignore')\n",
    "\n",
    "\n",
    "\n",
    "\n"
   ]
  },
  {
   "cell_type": "code",
   "execution_count": null,
   "metadata": {},
   "outputs": [],
   "source": []
  },
  {
   "cell_type": "code",
   "execution_count": 2,
   "metadata": {},
   "outputs": [],
   "source": [
    "BioStructure = NewType('BioStructure', Bio.PDB.Structure.Structure)\n",
    "BioVector = NewType('BioVector', Bio.PDB.vectors.Vector)  \n",
    "BioResidue = NewType('BioResidue', Bio.PDB.Residue.Residue)  \n"
   ]
  },
  {
   "cell_type": "code",
   "execution_count": 96,
   "metadata": {},
   "outputs": [],
   "source": [
    "#######################################################\n",
    "# Load EpitopeDB\n",
    "#######################################################\n",
    "def load_epitopedb():\n",
    "    \"\"\"This function loads the Epitopes from different tables\n",
    "    \"\"\"\n",
    "    desa = pd.read_pickle('../data/20201105_EpitopevsHLA_distance.pickle')\n",
    "    return desa\n",
    "\n",
    "#######################################################\n",
    "# Load PDB file\n",
    "#######################################################\n",
    "def load_hla_structure(HLA_Molecule:str, path):\n",
    "    parser = PDBParser()\n",
    "    return parser.get_structure(HLA_Molecule, path)\n",
    "\n",
    "#######################################################\n",
    "# HLA to file name\n",
    "#######################################################\n",
    "def hla_to_filename(hla:str):\n",
    "    \"\"\" \"\"\"\n",
    "    locus, specificity = hla.split('*')\n",
    "    filename = '_'.join([locus, *specificity.split(':')]) + '_V1.pdb'\n",
    "    return re.split('\\d', locus)[0], filename\n",
    "    \n",
    "#######################################################\n",
    "# Find HLA molecule path\n",
    "#######################################################\n",
    "def find_molecule_path(locus:str, filename:str) -> str:\n",
    "    \"\"\"This function makes use of the locus and filename resulted from 'hla_to_filename' function \n",
    "        to find the path to the relevant file .pdb file \"\"\"\n",
    "    \n",
    "    path = os.path.expanduser(f'../data/HLAMolecule/{locus[0:2]}') # get until the first 2 character of locus if exist\n",
    "    pdb_files = [file for file in os.listdir(path) if filename.split('_V1.pdb')[0] in file ]\n",
    "    if len(pdb_files) != 0:\n",
    "        return  True, os.path.join(path, f'{pdb_files[0]}')\n",
    "    else:\n",
    "        return  False, 'No path exists'\n",
    "\n",
    "#######################################################\n",
    "# Residue in short\n",
    "#######################################################\n",
    "def res_short(residue:BioResidue) -> str:\n",
    "    \"\"\" Gets the a residue object and returns a short residue sequence_number + amino acide name code \"\"\"\n",
    "    \n",
    "    resname = residue.get_resname()  # Residue Name\n",
    "    res_code = Aminoacid_conversion.get(resname)\n",
    "    res_num = residue.get_id()[1]  # Residue Number \n",
    "    return str(res_num) + res_code\n",
    "\n",
    "Aminoacid_conversion = {'CYS': 'C', 'ASP': 'D', 'SER': 'S', 'GLN': 'Q', 'LYS': 'K',\n",
    "                     'ILE': 'I', 'PRO': 'P', 'THR': 'T', 'PHE': 'F', 'ASN': 'N', \n",
    "                     'GLY': 'G', 'HIS': 'H', 'LEU': 'L', 'ARG': 'R', 'TRP': 'W', \n",
    "                     'ALA': 'A', 'VAL':'V', 'GLU': 'E', 'TYR': 'Y', 'MET': 'M'}\n",
    "\n",
    "#######################################################\n",
    "# Find the average location of Residue\n",
    "#######################################################\n",
    "def get_residue_avg_coord(residue:Tuple[int,str], structure:BioStructure, chain:str) -> BioVector:\n",
    "    \"\"\" This function finds the average coordinate of residue by averaging all the atoms coordinates\"\"\"\n",
    "    \n",
    "    BioChain = structure[0][chain]\n",
    "    res_num, res_code = int(residue[0]), residue[1]\n",
    "    _residue = BioChain[res_num]\n",
    "#     print(_residue.get_full_id())\n",
    "    res_pdb = Aminoacid_conversion.get(_residue.get_resname(), 'Corresponding code of the amino-acide could not be found')\n",
    "    try:\n",
    "        assert res_code == res_pdb\n",
    "    except AssertionError as e:\n",
    "         logger.warning(f'Expected residue {res_code}, but got {res_pdb}, sequence number: {res_num}, chain: {chain},  HLA: {structure.get_id()}')\n",
    "    atoms_coord = [atom.get_vector() for atom in _residue.get_atoms()]\n",
    "    return np.array(atoms_coord).sum()/len(atoms_coord)\n",
    "\n",
    "#######################################################\n",
    "# Find the average location of Epitope\n",
    "#######################################################\n",
    "def get_epitope_avg_coord(Epitope:List[Tuple[int,str]], structure:BioStructure, HLA_chain:str) -> BioVector:\n",
    "    \"\"\" This function finds the average coordinate of Epitope by averaging all the residues average coordinates\"\"\"\n",
    "\n",
    "    residues_coord = [get_residue_avg_coord(residue, structure, HLA_chain) for residue in Epitope]\n",
    "    return np.array(residues_coord).sum()/len(residues_coord)\n",
    "\n",
    "#######################################################\n",
    "# chain functions for calculating distances\n",
    "#######################################################\n",
    "def get_location(poly_residues:List[str], structure:BioStructure, locus:str) -> int:\n",
    "    \"\"\" Locus:['A', 'B', 'C', 'DR', 'DQ'] should be max 2 letters\n",
    "    \"\"\"\n",
    "    \n",
    "    HLA_chain = {'A': 'A', 'B': 'A', 'C': 'A', 'DRB': 'B', 'DQA': 'A', 'DQB':'B'}\n",
    "    epitope_coord = get_epitope_avg_coord(poly_residues, structure, HLA_chain.get(locus))\n",
    "    return epitope_coord\n",
    "\n",
    "def find_locations(EpitopeDB:pd.DataFrame) -> dict:\n",
    "    hla_exceptions = ['DRB1*03:03', 'DRB1*09:02', 'A*02:06'] #'DQA1*05:01', 'DQA1*02:01','A*02:06']\n",
    "    epitope_locations = defaultdict(list)\n",
    "    for i in tqdm(range(0, len(EpitopeDB))): #len(EpitopeDB)\n",
    "        Epitope = EpitopeDB.iloc[i].Epitope\n",
    "        loc = defaultdict(list)\n",
    "        for hla in EpitopeDB.iloc[i]['Luminex Alleles']:\n",
    "            if hla in hla_exceptions:\n",
    "                logger.warning(f'Skipped hla: {hla}')\n",
    "                continue\n",
    "            locus, filename = hla_to_filename(hla)\n",
    "            pdb_exist, pdb_path = find_molecule_path(locus, filename)\n",
    "            if pdb_exist: \n",
    "                structure = load_hla_structure(hla, pdb_path)\n",
    "                poly_residues = EpitopeDB.iloc[i].PolymorphicResidues\n",
    "                try: \n",
    "                    loc[hla] =  get_location(poly_residues, structure, locus).\\\n",
    "                                get_array().\\\n",
    "                                round(2).\\\n",
    "                                tolist()\n",
    "                except KeyError as e:\n",
    "                    logger.error(f'Epitope {poly_residues} HLA {structure.get_id()} \"KeyError\" {e}')\n",
    "        epitope_locations[Epitope].append(loc)\n",
    "    return epitope_locations\n",
    "\n",
    "def write_location_df(EpitopeDB:pd.DataFrame) -> pd.DataFrame:\n",
    "    epitope_locations = find_locations(EpitopeDB)\n",
    "    df = pd.DataFrame(epitope_locations)\\\n",
    "                               .T\\\n",
    "                               .reset_index()\\\n",
    "                               .rename(columns={'index':'Epitope', 0:'Location'})\n",
    "    return EpitopeDB.merge(df, on='Epitope')\n",
    "\n"
   ]
  },
  {
   "cell_type": "code",
   "execution_count": 97,
   "metadata": {},
   "outputs": [],
   "source": [
    "new = 'EpitopevsHLA_clean.xlsx'\n",
    "EpitopeDB = load_epitopedb()\n"
   ]
  },
  {
   "cell_type": "markdown",
   "metadata": {},
   "source": [
    "# Run the location script"
   ]
  },
  {
   "cell_type": "code",
   "execution_count": 98,
   "metadata": {},
   "outputs": [
    {
     "data": {
      "application/vnd.jupyter.widget-view+json": {
       "model_id": "339fd7c9680c45fb8a0e084f0618d8f4",
       "version_major": 2,
       "version_minor": 0
      },
      "text/plain": [
       "HBox(children=(FloatProgress(value=0.0, max=424.0), HTML(value='')))"
      ]
     },
     "metadata": {},
     "output_type": "display_data"
    },
    {
     "name": "stdout",
     "output_type": "stream",
     "text": [
      "\n"
     ]
    }
   ],
   "source": [
    "# %%timeit\n",
    "import logging\n",
    "for handler in logging.root.handlers[:]:\n",
    "    logging.root.removeHandler(handler)\n",
    "    \n",
    "logger = logging.getLogger(__name__)\n",
    "logging.basicConfig(filename= 'ep_distance.log',\n",
    "                    filemode = 'w',\n",
    "                    format= '%(name)s - %(levelname)s - %(message)s',\n",
    "                    level=logging.DEBUG,\n",
    "                   )\n",
    "\n",
    "\n",
    "dictionary = find_locations(EpitopeDB)\n",
    "# EpitopeDB_new = write_dsitance_df(EpitopeDB)\n"
   ]
  },
  {
   "cell_type": "code",
   "execution_count": 100,
   "metadata": {},
   "outputs": [],
   "source": [
    "df = pd.DataFrame(dictionary).T"
   ]
  },
  {
   "cell_type": "code",
   "execution_count": 71,
   "metadata": {},
   "outputs": [
    {
     "data": {
      "text/plain": [
       "[17.51, 19.17, 13.44]"
      ]
     },
     "execution_count": 71,
     "metadata": {},
     "output_type": "execute_result"
    }
   ],
   "source": [
    "df[0][0]['C*08:02'].get_array().round(2).tolist()"
   ]
  },
  {
   "cell_type": "code",
   "execution_count": 101,
   "metadata": {},
   "outputs": [
    {
     "data": {
      "text/html": [
       "<div>\n",
       "<style scoped>\n",
       "    .dataframe tbody tr th:only-of-type {\n",
       "        vertical-align: middle;\n",
       "    }\n",
       "\n",
       "    .dataframe tbody tr th {\n",
       "        vertical-align: top;\n",
       "    }\n",
       "\n",
       "    .dataframe thead th {\n",
       "        text-align: right;\n",
       "    }\n",
       "</style>\n",
       "<table border=\"1\" class=\"dataframe\">\n",
       "  <thead>\n",
       "    <tr style=\"text-align: right;\">\n",
       "      <th></th>\n",
       "      <th>0</th>\n",
       "    </tr>\n",
       "  </thead>\n",
       "  <tbody>\n",
       "    <tr>\n",
       "      <th>1C</th>\n",
       "      <td>{'C*08:02': [17.51, 19.17, 13.44], 'C*12:02': ...</td>\n",
       "    </tr>\n",
       "    <tr>\n",
       "      <th>9D</th>\n",
       "      <td>{'C*07:02': [16.85, -7.29, 12.52], 'B*08:01': ...</td>\n",
       "    </tr>\n",
       "    <tr>\n",
       "      <th>9F[A]</th>\n",
       "      <td>{'A*32:01': [2.45, 4.33, 6.64], 'A*02:01': [20...</td>\n",
       "    </tr>\n",
       "    <tr>\n",
       "      <th>9H</th>\n",
       "      <td>{'B*40:01': [-3.53, 9.98, -29.58], 'B*37:01': ...</td>\n",
       "    </tr>\n",
       "    <tr>\n",
       "      <th>9S</th>\n",
       "      <td>{'A*23:01': [-24.06, 8.52, -14.82], 'C*04:01':...</td>\n",
       "    </tr>\n",
       "    <tr>\n",
       "      <th>...</th>\n",
       "      <td>...</td>\n",
       "    </tr>\n",
       "    <tr>\n",
       "      <th>160A</th>\n",
       "      <td>{'DQA1*03:01': [73.51, 67.51, 103.62], 'DQA1*0...</td>\n",
       "    </tr>\n",
       "    <tr>\n",
       "      <th>160AD</th>\n",
       "      <td>{'DQA1*03:01': [74.45, 66.88, 102.11], 'DQA1*0...</td>\n",
       "    </tr>\n",
       "    <tr>\n",
       "      <th>160D</th>\n",
       "      <td>{'DQA1*03:02': [72.38, 67.98, 103.95], 'DQA1*0...</td>\n",
       "    </tr>\n",
       "    <tr>\n",
       "      <th>160S</th>\n",
       "      <td>{'DQA1*05:03': [25.66, -20.38, -26.74]}</td>\n",
       "    </tr>\n",
       "    <tr>\n",
       "      <th>175E</th>\n",
       "      <td>{'DQA1*02:01': [69.9, 10.78, 5.49], 'DQA1*03:0...</td>\n",
       "    </tr>\n",
       "  </tbody>\n",
       "</table>\n",
       "<p>424 rows × 1 columns</p>\n",
       "</div>"
      ],
      "text/plain": [
       "                                                       0\n",
       "1C     {'C*08:02': [17.51, 19.17, 13.44], 'C*12:02': ...\n",
       "9D     {'C*07:02': [16.85, -7.29, 12.52], 'B*08:01': ...\n",
       "9F[A]  {'A*32:01': [2.45, 4.33, 6.64], 'A*02:01': [20...\n",
       "9H     {'B*40:01': [-3.53, 9.98, -29.58], 'B*37:01': ...\n",
       "9S     {'A*23:01': [-24.06, 8.52, -14.82], 'C*04:01':...\n",
       "...                                                  ...\n",
       "160A   {'DQA1*03:01': [73.51, 67.51, 103.62], 'DQA1*0...\n",
       "160AD  {'DQA1*03:01': [74.45, 66.88, 102.11], 'DQA1*0...\n",
       "160D   {'DQA1*03:02': [72.38, 67.98, 103.95], 'DQA1*0...\n",
       "160S             {'DQA1*05:03': [25.66, -20.38, -26.74]}\n",
       "175E   {'DQA1*02:01': [69.9, 10.78, 5.49], 'DQA1*03:0...\n",
       "\n",
       "[424 rows x 1 columns]"
      ]
     },
     "execution_count": 101,
     "metadata": {},
     "output_type": "execute_result"
    }
   ],
   "source": [
    "# df[0][0]\n",
    "df"
   ]
  },
  {
   "cell_type": "code",
   "execution_count": 102,
   "metadata": {},
   "outputs": [],
   "source": [
    "# df[0][0]"
   ]
  },
  {
   "cell_type": "code",
   "execution_count": 103,
   "metadata": {},
   "outputs": [],
   "source": [
    "df = pd.DataFrame(dictionary)\\\n",
    "                           .T\\\n",
    "                           .reset_index()\\\n",
    "                           .rename(columns={'index':'Epitope', 0:'Location'})\n",
    "# df['Location_mean'] =  df['Location'].apply(lambda x: np.array([_.get_array()[1] for _ in x.items()]).mean())\n",
    "# df['Location_std'] =  df['Location'].apply(lambda x: np.array([_[1] for _ in x.items()]).std())"
   ]
  },
  {
   "cell_type": "code",
   "execution_count": 127,
   "metadata": {},
   "outputs": [
    {
     "data": {
      "text/plain": [
       "defaultdict(list,\n",
       "            {'B*40:01': [-3.53, 9.98, -29.58],\n",
       "             'B*37:01': [-4.05, 8.66, -28.62],\n",
       "             'B*41:01': [-3.53, 10.07, -29.6],\n",
       "             'B*49:01': [22.06, 9.32, 26.37],\n",
       "             'B*73:01': [4.23, 0.12, -0.95],\n",
       "             'B*27:05': [4.0, -0.05, -1.1],\n",
       "             'B*27:08': [4.31, -0.1, -1.26],\n",
       "             'B*45:01': [-3.57, 9.96, -29.55],\n",
       "             'B*40:06': [3.72, -9.57, -29.43],\n",
       "             'B*40:02': [3.67, -9.82, -29.34],\n",
       "             'B*18:01': [-3.93, 8.82, -28.52],\n",
       "             'B*50:01': [3.71, -9.42, -29.57],\n",
       "             'B*27:03': [4.13, 103.92, -0.92]})"
      ]
     },
     "execution_count": 127,
     "metadata": {},
     "output_type": "execute_result"
    }
   ],
   "source": [
    "df.Location[3]"
   ]
  },
  {
   "cell_type": "code",
   "execution_count": 116,
   "metadata": {},
   "outputs": [
    {
     "data": {
      "text/plain": [
       "0        [17.71, 19.09, 13.19]\n",
       "1          [13.7, -7.55, 2.44]\n",
       "2             [1.79, 7.0, 9.7]\n",
       "3         [2.4, 10.15, -16.31]\n",
       "4           [0.23, 8.52, 7.04]\n",
       "                ...           \n",
       "419       [49.02, 15.24, 21.2]\n",
       "420        [50.12, 17.4, 27.9]\n",
       "421      [43.99, 39.83, 59.98]\n",
       "422    [25.66, -20.38, -26.74]\n",
       "423       [44.98, 3.76, 39.71]\n",
       "Name: Location, Length: 424, dtype: object"
      ]
     },
     "execution_count": 116,
     "metadata": {},
     "output_type": "execute_result"
    }
   ],
   "source": [
    "# df['Location'].apply(lambda x: np.round(sum([np.array(_) for _ in x.values()])/len(x), 2))"
   ]
  },
  {
   "cell_type": "code",
   "execution_count": 49,
   "metadata": {},
   "outputs": [],
   "source": []
  },
  {
   "cell_type": "code",
   "execution_count": 50,
   "metadata": {},
   "outputs": [],
   "source": []
  }
 ],
 "metadata": {
  "kernelspec": {
   "display_name": "Python 3",
   "language": "python",
   "name": "python3"
  },
  "language_info": {
   "codemirror_mode": {
    "name": "ipython",
    "version": 3
   },
   "file_extension": ".py",
   "mimetype": "text/x-python",
   "name": "python",
   "nbconvert_exporter": "python",
   "pygments_lexer": "ipython3",
   "version": "3.7.6"
  }
 },
 "nbformat": 4,
 "nbformat_minor": 4
}
