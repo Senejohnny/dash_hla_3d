{
 "cells": [
  {
   "cell_type": "code",
   "execution_count": 5,
   "metadata": {},
   "outputs": [],
   "source": [
    "import pandas as pd\n",
    "import numpy as np\n"
   ]
  },
  {
   "cell_type": "code",
   "execution_count": 6,
   "metadata": {},
   "outputs": [
    {
     "data": {
      "text/plain": [
       "(4736, 6)"
      ]
     },
     "execution_count": 6,
     "metadata": {},
     "output_type": "execute_result"
    }
   ],
   "source": [
    "All_desa = pd.read_pickle('/Users/Danial/UMCUtrecht/ProcessedData/DSAandDESA/20200916_DESA_new_All.pickle')\n",
    "All_desa.shape\n",
    "# this data frame is as large as upscaled dataframe with 4736 Tx"
   ]
  },
  {
   "cell_type": "code",
   "execution_count": 11,
   "metadata": {},
   "outputs": [],
   "source": [
    "# Kamburova_suplim = pd.read_excel('/Users/Danial/UMCUtrecht/KaplanMeier/Kambruva_KM_Suplimentary_Data.xlsx')\n",
    "# Kamburova_suplim[['TransplantID', 'TypeOfDonor_NOTR']]"
   ]
  },
  {
   "cell_type": "code",
   "execution_count": 12,
   "metadata": {},
   "outputs": [],
   "source": [
    "desa = pd.read_pickle('../data/desa_3d_view.pickle')\n",
    "# desa.to_pickle('../data/desa_3d_view.pickle')"
   ]
  },
  {
   "cell_type": "code",
   "execution_count": 10,
   "metadata": {},
   "outputs": [],
   "source": [
    "# path = '/Users/Danial/UMCUtrecht/PredictiveModelingData/20200907_Data_Modeling.pickle'\n",
    "# db = pd.read_pickle(path)"
   ]
  },
  {
   "cell_type": "code",
   "execution_count": 6,
   "metadata": {},
   "outputs": [],
   "source": [
    "desa = desa.merge(Kamburova_suplim[['TransplantID', 'TypeOfDonor_NOTR']], on='TransplantID')"
   ]
  },
  {
   "cell_type": "code",
   "execution_count": 7,
   "metadata": {},
   "outputs": [],
   "source": [
    "desa.rename(columns={'TypeOfDonor_NOTR':'Donor_Type'}, inplace=True)"
   ]
  },
  {
   "cell_type": "code",
   "execution_count": 65,
   "metadata": {},
   "outputs": [],
   "source": [
    "# desa.to_pickle('../data/desa_3d_view.pickle')"
   ]
  },
  {
   "cell_type": "code",
   "execution_count": 8,
   "metadata": {},
   "outputs": [
    {
     "data": {
      "text/plain": [
       "Deceased    315\n",
       "Living      124\n",
       "Name: Donor_Type, dtype: int64"
      ]
     },
     "execution_count": 8,
     "metadata": {},
     "output_type": "execute_result"
    }
   ],
   "source": [
    "desa.Donor_Type.value_counts()"
   ]
  },
  {
   "cell_type": "code",
   "execution_count": 52,
   "metadata": {},
   "outputs": [],
   "source": [
    "desa.drop('Status', axis=1).to_pickle('../data/desa_3d_view.pickle')"
   ]
  },
  {
   "cell_type": "code",
   "execution_count": 33,
   "metadata": {},
   "outputs": [],
   "source": [
    "import pymongo\n",
    "from pymongo import MongoClient\n",
    "mongo_client = MongoClient('localhost', 27017) # build a new client instance of MongoClient\n",
    "db = mongo_client.desa_database # create new database\n",
    "desa_col = db['desa_db'] # create new collection instance"
   ]
  },
  {
   "cell_type": "code",
   "execution_count": 42,
   "metadata": {},
   "outputs": [],
   "source": [
    "desa_df =  pd.read_pickle('../data/desa_3d_view.pickle')"
   ]
  },
  {
   "cell_type": "code",
   "execution_count": 44,
   "metadata": {},
   "outputs": [],
   "source": [
    "data_dict = desa_df.to_dict(\"records\") # convert to dictionary"
   ]
  },
  {
   "cell_type": "code",
   "execution_count": 49,
   "metadata": {},
   "outputs": [],
   "source": [
    "# desa_col.insert_many(data_dict) # inesrt into DB"
   ]
  },
  {
   "cell_type": "code",
   "execution_count": 66,
   "metadata": {},
   "outputs": [
    {
     "data": {
      "text/html": [
       "<div>\n",
       "<style scoped>\n",
       "    .dataframe tbody tr th:only-of-type {\n",
       "        vertical-align: middle;\n",
       "    }\n",
       "\n",
       "    .dataframe tbody tr th {\n",
       "        vertical-align: top;\n",
       "    }\n",
       "\n",
       "    .dataframe thead th {\n",
       "        text-align: right;\n",
       "    }\n",
       "</style>\n",
       "<table border=\"1\" class=\"dataframe\">\n",
       "  <thead>\n",
       "    <tr style=\"text-align: right;\">\n",
       "      <th></th>\n",
       "      <th>TransplantID</th>\n",
       "      <th>Status</th>\n",
       "      <th>DESA_Epitope</th>\n",
       "      <th>#DESA</th>\n",
       "      <th>EpvsHLA_Pos</th>\n",
       "      <th>EpvsHLA_Donor</th>\n",
       "      <th>Failure</th>\n",
       "      <th>Survival[Y]</th>\n",
       "      <th>DESA-&gt;Donor_HLA</th>\n",
       "      <th>Donor_HLA</th>\n",
       "      <th>Donor_HLA_Class</th>\n",
       "      <th>Donor_Type</th>\n",
       "    </tr>\n",
       "  </thead>\n",
       "  <tbody>\n",
       "    <tr>\n",
       "      <th>0</th>\n",
       "      <td>327</td>\n",
       "      <td>DESA</td>\n",
       "      <td>{62GRN, 44RMA, 97V, 62GE, 94I, 71SA, 74Y}</td>\n",
       "      <td>7</td>\n",
       "      <td>{'62GRN': {'B*57:01', 'B*58:01'}, '97V': {'B*5...</td>\n",
       "      <td>{'44RMA': 'B*57:01', '62GE': 'B*57:01', '94I':...</td>\n",
       "      <td>1</td>\n",
       "      <td>0.287671</td>\n",
       "      <td>{'B*57:01': 7}</td>\n",
       "      <td>{B*57}</td>\n",
       "      <td>I</td>\n",
       "      <td>Deceased</td>\n",
       "    </tr>\n",
       "    <tr>\n",
       "      <th>1</th>\n",
       "      <td>369</td>\n",
       "      <td>DESA</td>\n",
       "      <td>{57V[DR], 38L, 26L[DR], 85A, 37L}</td>\n",
       "      <td>5</td>\n",
       "      <td>{'85A': {'DRB1*12:01', 'DRB5*02:02', 'DRB1*01:...</td>\n",
       "      <td>{'26L[DR]': 'DRB1*12:01', '57V[DR]': 'DRB1*12:...</td>\n",
       "      <td>2</td>\n",
       "      <td>13.326027</td>\n",
       "      <td>{'DRB1*12:01': 5}</td>\n",
       "      <td>{DRB1*12}</td>\n",
       "      <td>II</td>\n",
       "      <td>Deceased</td>\n",
       "    </tr>\n",
       "    <tr>\n",
       "      <th>2</th>\n",
       "      <td>5580</td>\n",
       "      <td>DESA</td>\n",
       "      <td>{55PP, 45EV, 55PPD}</td>\n",
       "      <td>3</td>\n",
       "      <td>{'55PP': {'DQB1*03:02', 'DQB1*03:03', 'DQB1*03...</td>\n",
       "      <td>{'55PP': 'DQB1*03:01', '45EV': 'DQB1*03:01', '...</td>\n",
       "      <td>0</td>\n",
       "      <td>12.008219</td>\n",
       "      <td>{'DQB1*03:01': 3}</td>\n",
       "      <td>{DQB1*03}</td>\n",
       "      <td>II</td>\n",
       "      <td>Living</td>\n",
       "    </tr>\n",
       "    <tr>\n",
       "      <th>3</th>\n",
       "      <td>72</td>\n",
       "      <td>DESA</td>\n",
       "      <td>{30D, 30H[DQ], 52PQ, 86A, 9F[DQ], 125G, 55RPD,...</td>\n",
       "      <td>11</td>\n",
       "      <td>{'55RPD': {'DQB1*06:03', 'DQB1*06:02', 'DQB1*0...</td>\n",
       "      <td>{'70GT': 'DQB1*06:02', '86A': 'DQB1*06:02', '1...</td>\n",
       "      <td>2</td>\n",
       "      <td>5.539726</td>\n",
       "      <td>{'DQB1*06:02': 9, 'DQB1*06:03': 1, 'DRB5*01:01...</td>\n",
       "      <td>{DRB5*01, DQB1*06}</td>\n",
       "      <td>II</td>\n",
       "      <td>Living</td>\n",
       "    </tr>\n",
       "    <tr>\n",
       "      <th>4</th>\n",
       "      <td>279</td>\n",
       "      <td>DESA</td>\n",
       "      <td>{71E, 47F, 149H, 181T, 70Q, 98Q, 13SE, 74A, 98...</td>\n",
       "      <td>25</td>\n",
       "      <td>{'32H': {'DRB3*03:01', 'DRB1*03:03', 'DRB1*03:...</td>\n",
       "      <td>{'32H': 'DRB1*13:02', '98Q': 'DRB3*03:01', '4R...</td>\n",
       "      <td>1</td>\n",
       "      <td>0.000000</td>\n",
       "      <td>{'DRB1*13:02': 18, 'DRB3*03:01': 7}</td>\n",
       "      <td>{DRB1*13, DRB3*03}</td>\n",
       "      <td>II</td>\n",
       "      <td>Deceased</td>\n",
       "    </tr>\n",
       "    <tr>\n",
       "      <th>...</th>\n",
       "      <td>...</td>\n",
       "      <td>...</td>\n",
       "      <td>...</td>\n",
       "      <td>...</td>\n",
       "      <td>...</td>\n",
       "      <td>...</td>\n",
       "      <td>...</td>\n",
       "      <td>...</td>\n",
       "      <td>...</td>\n",
       "      <td>...</td>\n",
       "      <td>...</td>\n",
       "      <td>...</td>\n",
       "    </tr>\n",
       "    <tr>\n",
       "      <th>434</th>\n",
       "      <td>954</td>\n",
       "      <td>DESA</td>\n",
       "      <td>{211T, 77NGT, 163RW, 163R, 90D, 16S, 76ANT, 80...</td>\n",
       "      <td>9</td>\n",
       "      <td>{'163R': {'A*43:01', 'A*26:01', 'A*66:01', 'A*...</td>\n",
       "      <td>{'163R': 'A*26:01', '77NGT': 'A*26:01', '90D':...</td>\n",
       "      <td>0</td>\n",
       "      <td>11.005479</td>\n",
       "      <td>{'A*26:01': 6, 'C*02:02': 3}</td>\n",
       "      <td>{C*02, A*26}</td>\n",
       "      <td>I</td>\n",
       "      <td>Living</td>\n",
       "    </tr>\n",
       "    <tr>\n",
       "      <th>435</th>\n",
       "      <td>961</td>\n",
       "      <td>DESA</td>\n",
       "      <td>{30RV}</td>\n",
       "      <td>1</td>\n",
       "      <td>{'30RV': {'DRB1*10:01'}}</td>\n",
       "      <td>{'30RV': 'DRB1*10:01'}</td>\n",
       "      <td>1</td>\n",
       "      <td>8.304110</td>\n",
       "      <td>{'DRB1*10:01': 1}</td>\n",
       "      <td>{DRB1*10}</td>\n",
       "      <td>II</td>\n",
       "      <td>Deceased</td>\n",
       "    </tr>\n",
       "    <tr>\n",
       "      <th>436</th>\n",
       "      <td>973</td>\n",
       "      <td>DESA</td>\n",
       "      <td>{77NGT, 163R, 66NM, 125SQ, 97I, 37YV[DQ], 77R,...</td>\n",
       "      <td>18</td>\n",
       "      <td>{'97I': {'A*34:02', 'A*30:01', 'A*36:01', 'A*1...</td>\n",
       "      <td>{'125SQ': 'DQB1*05:01', '37YV[DQ]': 'DQB1*05:0...</td>\n",
       "      <td>0</td>\n",
       "      <td>16.010959</td>\n",
       "      <td>{'DQB1*05:01': 4, 'A*01:01': 14}</td>\n",
       "      <td>{A*01, DQB1*05}</td>\n",
       "      <td>I,II</td>\n",
       "      <td>Deceased</td>\n",
       "    </tr>\n",
       "    <tr>\n",
       "      <th>437</th>\n",
       "      <td>974</td>\n",
       "      <td>DESA</td>\n",
       "      <td>{71TD, 80TLR, 82LR, 76ET, 76ED}</td>\n",
       "      <td>5</td>\n",
       "      <td>{'76ED': {'B*47:01', 'B*27:03', 'B*27:05', 'B*...</td>\n",
       "      <td>{'80TLR': 'B*37:01', '71TD': 'B*37:01', '76ED'...</td>\n",
       "      <td>1</td>\n",
       "      <td>0.076712</td>\n",
       "      <td>{'B*37:01': 5}</td>\n",
       "      <td>{B*37}</td>\n",
       "      <td>I</td>\n",
       "      <td>Deceased</td>\n",
       "    </tr>\n",
       "    <tr>\n",
       "      <th>438</th>\n",
       "      <td>98</td>\n",
       "      <td>DESA</td>\n",
       "      <td>{163RW, 163R, 151AHA, 156QA, 152HA, 152A}</td>\n",
       "      <td>6</td>\n",
       "      <td>{'151AHA': {'A*11:01', 'A*11:02'}, '156QA': {'...</td>\n",
       "      <td>{'151AHA': 'A*11:01', '152A': 'A*11:01', '152H...</td>\n",
       "      <td>2</td>\n",
       "      <td>8.128767</td>\n",
       "      <td>{'A*11:01': 6}</td>\n",
       "      <td>{A*11}</td>\n",
       "      <td>I</td>\n",
       "      <td>Deceased</td>\n",
       "    </tr>\n",
       "  </tbody>\n",
       "</table>\n",
       "<p>439 rows × 12 columns</p>\n",
       "</div>"
      ],
      "text/plain": [
       "     TransplantID Status                                       DESA_Epitope  \\\n",
       "0             327   DESA          {62GRN, 44RMA, 97V, 62GE, 94I, 71SA, 74Y}   \n",
       "1             369   DESA                  {57V[DR], 38L, 26L[DR], 85A, 37L}   \n",
       "2            5580   DESA                                {55PP, 45EV, 55PPD}   \n",
       "3              72   DESA  {30D, 30H[DQ], 52PQ, 86A, 9F[DQ], 125G, 55RPD,...   \n",
       "4             279   DESA  {71E, 47F, 149H, 181T, 70Q, 98Q, 13SE, 74A, 98...   \n",
       "..            ...    ...                                                ...   \n",
       "434           954   DESA  {211T, 77NGT, 163RW, 163R, 90D, 16S, 76ANT, 80...   \n",
       "435           961   DESA                                             {30RV}   \n",
       "436           973   DESA  {77NGT, 163R, 66NM, 125SQ, 97I, 37YV[DQ], 77R,...   \n",
       "437           974   DESA                    {71TD, 80TLR, 82LR, 76ET, 76ED}   \n",
       "438            98   DESA          {163RW, 163R, 151AHA, 156QA, 152HA, 152A}   \n",
       "\n",
       "     #DESA                                        EpvsHLA_Pos  \\\n",
       "0        7  {'62GRN': {'B*57:01', 'B*58:01'}, '97V': {'B*5...   \n",
       "1        5  {'85A': {'DRB1*12:01', 'DRB5*02:02', 'DRB1*01:...   \n",
       "2        3  {'55PP': {'DQB1*03:02', 'DQB1*03:03', 'DQB1*03...   \n",
       "3       11  {'55RPD': {'DQB1*06:03', 'DQB1*06:02', 'DQB1*0...   \n",
       "4       25  {'32H': {'DRB3*03:01', 'DRB1*03:03', 'DRB1*03:...   \n",
       "..     ...                                                ...   \n",
       "434      9  {'163R': {'A*43:01', 'A*26:01', 'A*66:01', 'A*...   \n",
       "435      1                           {'30RV': {'DRB1*10:01'}}   \n",
       "436     18  {'97I': {'A*34:02', 'A*30:01', 'A*36:01', 'A*1...   \n",
       "437      5  {'76ED': {'B*47:01', 'B*27:03', 'B*27:05', 'B*...   \n",
       "438      6  {'151AHA': {'A*11:01', 'A*11:02'}, '156QA': {'...   \n",
       "\n",
       "                                         EpvsHLA_Donor  Failure  Survival[Y]  \\\n",
       "0    {'44RMA': 'B*57:01', '62GE': 'B*57:01', '94I':...        1     0.287671   \n",
       "1    {'26L[DR]': 'DRB1*12:01', '57V[DR]': 'DRB1*12:...        2    13.326027   \n",
       "2    {'55PP': 'DQB1*03:01', '45EV': 'DQB1*03:01', '...        0    12.008219   \n",
       "3    {'70GT': 'DQB1*06:02', '86A': 'DQB1*06:02', '1...        2     5.539726   \n",
       "4    {'32H': 'DRB1*13:02', '98Q': 'DRB3*03:01', '4R...        1     0.000000   \n",
       "..                                                 ...      ...          ...   \n",
       "434  {'163R': 'A*26:01', '77NGT': 'A*26:01', '90D':...        0    11.005479   \n",
       "435                             {'30RV': 'DRB1*10:01'}        1     8.304110   \n",
       "436  {'125SQ': 'DQB1*05:01', '37YV[DQ]': 'DQB1*05:0...        0    16.010959   \n",
       "437  {'80TLR': 'B*37:01', '71TD': 'B*37:01', '76ED'...        1     0.076712   \n",
       "438  {'151AHA': 'A*11:01', '152A': 'A*11:01', '152H...        2     8.128767   \n",
       "\n",
       "                                       DESA->Donor_HLA           Donor_HLA  \\\n",
       "0                                       {'B*57:01': 7}              {B*57}   \n",
       "1                                    {'DRB1*12:01': 5}           {DRB1*12}   \n",
       "2                                    {'DQB1*03:01': 3}           {DQB1*03}   \n",
       "3    {'DQB1*06:02': 9, 'DQB1*06:03': 1, 'DRB5*01:01...  {DRB5*01, DQB1*06}   \n",
       "4                  {'DRB1*13:02': 18, 'DRB3*03:01': 7}  {DRB1*13, DRB3*03}   \n",
       "..                                                 ...                 ...   \n",
       "434                       {'A*26:01': 6, 'C*02:02': 3}        {C*02, A*26}   \n",
       "435                                  {'DRB1*10:01': 1}           {DRB1*10}   \n",
       "436                   {'DQB1*05:01': 4, 'A*01:01': 14}     {A*01, DQB1*05}   \n",
       "437                                     {'B*37:01': 5}              {B*37}   \n",
       "438                                     {'A*11:01': 6}              {A*11}   \n",
       "\n",
       "    Donor_HLA_Class Donor_Type  \n",
       "0                 I   Deceased  \n",
       "1                II   Deceased  \n",
       "2                II     Living  \n",
       "3                II     Living  \n",
       "4                II   Deceased  \n",
       "..              ...        ...  \n",
       "434               I     Living  \n",
       "435              II   Deceased  \n",
       "436            I,II   Deceased  \n",
       "437               I   Deceased  \n",
       "438               I   Deceased  \n",
       "\n",
       "[439 rows x 12 columns]"
      ]
     },
     "execution_count": 66,
     "metadata": {},
     "output_type": "execute_result"
    }
   ],
   "source": [
    "desa"
   ]
  },
  {
   "cell_type": "code",
   "execution_count": null,
   "metadata": {},
   "outputs": [],
   "source": []
  }
 ],
 "metadata": {
  "kernelspec": {
   "display_name": "Python 3",
   "language": "python",
   "name": "python3"
  },
  "language_info": {
   "codemirror_mode": {
    "name": "ipython",
    "version": 3
   },
   "file_extension": ".py",
   "mimetype": "text/x-python",
   "name": "python",
   "nbconvert_exporter": "python",
   "pygments_lexer": "ipython3",
   "version": "3.9.1"
  }
 },
 "nbformat": 4,
 "nbformat_minor": 4
}
