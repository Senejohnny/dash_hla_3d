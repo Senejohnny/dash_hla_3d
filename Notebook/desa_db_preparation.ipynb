{
 "cells": [
  {
   "cell_type": "code",
   "execution_count": 5,
   "metadata": {},
   "outputs": [],
   "source": [
    "import pandas as pd\n",
    "import numpy as np\n"
   ]
  },
  {
   "cell_type": "code",
   "execution_count": 6,
   "metadata": {},
   "outputs": [
    {
     "data": {
      "text/plain": [
       "(4736, 6)"
      ]
     },
     "execution_count": 6,
     "metadata": {},
     "output_type": "execute_result"
    }
   ],
   "source": [
    "All_desa = pd.read_pickle('/Users/Danial/UMCUtrecht/ProcessedData/DSAandDESA/20200916_DESA_new_All.pickle')\n",
    "All_desa.shape\n",
    "# this data frame is as large as upscaled dataframe with 4736 Tx"
   ]
  },
  {
   "cell_type": "code",
   "execution_count": 11,
   "metadata": {},
   "outputs": [],
   "source": [
    "# Kamburova_suplim = pd.read_excel('/Users/Danial/UMCUtrecht/KaplanMeier/Kambruva_KM_Suplimentary_Data.xlsx')\n",
    "# Kamburova_suplim[['TransplantID', 'TypeOfDonor_NOTR']]"
   ]
  },
  {
   "cell_type": "code",
   "execution_count": 12,
   "metadata": {},
   "outputs": [],
   "source": [
    "desa = pd.read_pickle('../data/desa_3d_view.pickle')\n",
    "# desa.to_pickle('../data/desa_3d_view.pickle')"
   ]
  },
  {
   "cell_type": "code",
   "execution_count": 10,
   "metadata": {},
   "outputs": [],
   "source": [
    "# path = '/Users/Danial/UMCUtrecht/PredictiveModelingData/20200907_Data_Modeling.pickle'\n",
    "# db = pd.read_pickle(path)"
   ]
  },
  {
   "cell_type": "code",
   "execution_count": 6,
   "metadata": {},
   "outputs": [],
   "source": [
    "desa = desa.merge(Kamburova_suplim[['TransplantID', 'TypeOfDonor_NOTR']], on='TransplantID')"
   ]
  },
  {
   "cell_type": "code",
   "execution_count": 7,
   "metadata": {},
   "outputs": [],
   "source": [
    "desa.rename(columns={'TypeOfDonor_NOTR':'Donor_Type'}, inplace=True)"
   ]
  },
  {
   "cell_type": "code",
   "execution_count": 65,
   "metadata": {},
   "outputs": [],
   "source": [
    "# desa.to_pickle('../data/desa_3d_view.pickle')"
   ]
  },
  {
   "cell_type": "code",
   "execution_count": 8,
   "metadata": {},
   "outputs": [
    {
     "data": {
      "text/plain": [
       "Deceased    315\n",
       "Living      124\n",
       "Name: Donor_Type, dtype: int64"
      ]
     },
     "execution_count": 8,
     "metadata": {},
     "output_type": "execute_result"
    }
   ],
   "source": [
    "desa.Donor_Type.value_counts()"
   ]
  },
  {
   "cell_type": "code",
   "execution_count": 52,
   "metadata": {},
   "outputs": [],
   "source": [
    "desa.drop('Status', axis=1).to_pickle('../data/desa_3d_view.pickle')"
   ]
  },
  {
   "cell_type": "code",
   "execution_count": 33,
   "metadata": {},
   "outputs": [],
   "source": [
    "import pymongo\n",
    "from pymongo import MongoClient\n",
    "mongo_client = MongoClient('localhost', 27017) # build a new client instance of MongoClient\n",
    "db = mongo_client.desa_database # create new database\n",
    "desa_col = db['desa_db'] # create new collection instance"
   ]
  },
  {
   "cell_type": "code",
   "execution_count": 42,
   "metadata": {},
   "outputs": [],
   "source": [
    "desa_df =  pd.read_pickle('../data/desa_3d_view.pickle')"
   ]
  },
  {
   "cell_type": "code",
   "execution_count": 44,
   "metadata": {},
   "outputs": [],
   "source": [
    "data_dict = desa_df.to_dict(\"records\") # convert to dictionary"
   ]
  },
  {
   "cell_type": "code",
   "execution_count": 49,
   "metadata": {},
   "outputs": [],
   "source": [
    "# desa_col.insert_many(data_dict) # inesrt into DB"
   ]
  },
  {
   "cell_type": "code",
   "execution_count": 24,
   "metadata": {},
   "outputs": [
    {
     "data": {
      "text/plain": [
       "{'151AHV': 'A*24:02',\n",
       " '65GK': 'A*24:02',\n",
       " '127K': 'A*24:02',\n",
       " '66KA': 'A*24:02',\n",
       " '66KH': 'A*24:02'}"
      ]
     },
     "execution_count": 24,
     "metadata": {},
     "output_type": "execute_result"
    }
   ],
   "source": [
    "desa[desa.TransplantID == 3819].EpvsHLA_Donor.values[0]"
   ]
  },
  {
   "cell_type": "code",
   "execution_count": null,
   "metadata": {},
   "outputs": [],
   "source": []
  }
 ],
 "metadata": {
  "kernelspec": {
   "display_name": "Python 3",
   "language": "python",
   "name": "python3"
  },
  "language_info": {
   "codemirror_mode": {
    "name": "ipython",
    "version": 3
   },
   "file_extension": ".py",
   "mimetype": "text/x-python",
   "name": "python",
   "nbconvert_exporter": "python",
   "pygments_lexer": "ipython3",
   "version": "3.9.1"
  }
 },
 "nbformat": 4,
 "nbformat_minor": 4
}
